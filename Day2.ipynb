{
 "cells": [
  {
   "cell_type": "code",
   "execution_count": 1,
   "id": "90ae8fd7",
   "metadata": {},
   "outputs": [],
   "source": [
    "# Bitwise Operators"
   ]
  },
  {
   "cell_type": "code",
   "execution_count": 4,
   "id": "11cb660b",
   "metadata": {},
   "outputs": [
    {
     "name": "stdout",
     "output_type": "stream",
     "text": [
      "0\n",
      "30\n",
      "-11\n",
      "-21\n",
      "30\n",
      "20\n",
      "5\n"
     ]
    }
   ],
   "source": [
    "var = 10\n",
    "var1 = 20\n",
    "print(var & var1) # and \n",
    "print(var | var1) # or\n",
    "print( ~var) # not( 1's complement)\n",
    "print(  ~var1)\n",
    "print( var ^ var1) # XOR (1's complement)\n",
    "print (var << 1) # left shift\n",
    "print(var >> 1) # right shift\n"
   ]
  },
  {
   "cell_type": "code",
   "execution_count": 6,
   "id": "f673efbd",
   "metadata": {},
   "outputs": [
    {
     "name": "stdout",
     "output_type": "stream",
     "text": [
      "12\n",
      "-2\n",
      "19\n",
      "-31\n",
      "-14\n",
      "-40\n",
      "-10\n"
     ]
    }
   ],
   "source": [
    "var = - 20\n",
    "var1 = 30\n",
    "print(var & var1) # and \n",
    "print(var | var1) # or\n",
    "print( ~var) # not( 1's complement)\n",
    "print(  ~var1)\n",
    "print( var ^ var1) # XOR (1's complement)\n",
    "print (var << 1) # left shift\n",
    "print(var >> 1) # right shift\n"
   ]
  },
  {
   "cell_type": "code",
   "execution_count": 10,
   "id": "3292d942",
   "metadata": {},
   "outputs": [
    {
     "name": "stdout",
     "output_type": "stream",
     "text": [
      "True\n",
      "True\n",
      "True\n",
      "False\n"
     ]
    }
   ],
   "source": [
    "# Membership operator\n",
    "# 1. in (Sequence in a specified value)\n",
    "# 2. not in \n",
    "\n",
    "str1=[1,2,3]\n",
    "str2 =['john','zia']\n",
    "print(1 in str1)\n",
    "print('john' in str2)\n",
    "print('maria' not in str2)\n",
    "print(1 not in str1)"
   ]
  },
  {
   "cell_type": "code",
   "execution_count": null,
   "id": "64ead1a9",
   "metadata": {},
   "outputs": [
    {
     "ename": "",
     "evalue": "",
     "output_type": "error",
     "traceback": [
      "\u001b[1;31mRunning cells with 'Python 3.10.7 64-bit' requires ipykernel package.\n",
      "\u001b[1;31mRun the following command to install 'ipykernel' into the Python environment. \n",
      "\u001b[1;31mCommand: '/usr/local/bin/python3 -m pip install ipykernel -U --user --force-reinstall'"
     ]
    }
   ],
   "source": [
    "# identity \n",
    "# 1. is \n",
    "# 2. is not\n",
    "var1= [\"john\",\"zia\",\"riya\"]\n",
    "var2= (1,2,3,4,5)\n",
    "var3= [1,2,3,4,5]\n",
    "var4= [\"john\",\"zia\",\"riya\"]\n",
    "var1 = var4\n",
    "#var2 = var3\n",
    "print(var1)\n",
    "#print(var2)\n",
    "print(var2 is var3)\n",
    "print(type(var3))\n",
    "print(type(var2))\n",
    "print(var1 is var4)\n",
    "print(type(var1))\n",
    "print(type(var4))\n",
    "print(var1 is not var4)\n",
    "print(var2 is not var3)"
   ]
  },
  {
   "cell_type": "markdown",
   "id": "6328a409",
   "metadata": {},
   "source": [
    "# Data Types "
   ]
  },
  {
   "cell_type": "code",
   "execution_count": 22,
   "id": "28a459d4",
   "metadata": {},
   "outputs": [],
   "source": [
    "# Numeric data Types"
   ]
  },
  {
   "cell_type": "code",
   "execution_count": 23,
   "id": "d456631a",
   "metadata": {},
   "outputs": [
    {
     "name": "stdout",
     "output_type": "stream",
     "text": [
      "10\n"
     ]
    }
   ],
   "source": [
    "var = 10 \n",
    "print(var)"
   ]
  },
  {
   "cell_type": "code",
   "execution_count": 25,
   "id": "66dfb587",
   "metadata": {},
   "outputs": [
    {
     "name": "stdout",
     "output_type": "stream",
     "text": [
      "<class 'int'>\n"
     ]
    }
   ],
   "source": [
    "print(type(var))"
   ]
  },
  {
   "cell_type": "code",
   "execution_count": 28,
   "id": "ba4af02f",
   "metadata": {},
   "outputs": [
    {
     "name": "stdout",
     "output_type": "stream",
     "text": [
      "Enter the value:14\n",
      "14\n",
      "<class 'int'>\n",
      "Enter the value:15\n",
      "15\n",
      "<class 'int'>\n",
      "29\n",
      "<class 'int'>\n"
     ]
    }
   ],
   "source": [
    "var1 = int(input(\"Enter the value:\"))\n",
    "print(var1)\n",
    "print(type(var1))\n",
    "var2 = int(input(\"Enter the value:\"))\n",
    "print(var2)\n",
    "print(type(var2))\n",
    "var3= var1+var2\n",
    "print(var3)\n",
    "print(type(var3))\n",
    "\n"
   ]
  },
  {
   "cell_type": "code",
   "execution_count": 29,
   "id": "ac365d8f",
   "metadata": {},
   "outputs": [
    {
     "name": "stdout",
     "output_type": "stream",
     "text": [
      "Enter the value:14\n",
      "14\n",
      "<class 'str'>\n",
      "Enter the value:13\n",
      "13\n",
      "<class 'int'>\n"
     ]
    },
    {
     "ename": "TypeError",
     "evalue": "can only concatenate str (not \"int\") to str",
     "output_type": "error",
     "traceback": [
      "\u001b[1;31m---------------------------------------------------------------------------\u001b[0m",
      "\u001b[1;31mTypeError\u001b[0m                                 Traceback (most recent call last)",
      "Input \u001b[1;32mIn [29]\u001b[0m, in \u001b[0;36m<cell line: 7>\u001b[1;34m()\u001b[0m\n\u001b[0;32m      5\u001b[0m \u001b[38;5;28mprint\u001b[39m(var2)\n\u001b[0;32m      6\u001b[0m \u001b[38;5;28mprint\u001b[39m(\u001b[38;5;28mtype\u001b[39m(var2))\n\u001b[1;32m----> 7\u001b[0m var3\u001b[38;5;241m=\u001b[39m \u001b[43mvar1\u001b[49m\u001b[38;5;241;43m+\u001b[39;49m\u001b[43mvar2\u001b[49m\n\u001b[0;32m      8\u001b[0m \u001b[38;5;28mprint\u001b[39m(var3)\n\u001b[0;32m      9\u001b[0m \u001b[38;5;28mprint\u001b[39m(\u001b[38;5;28mtype\u001b[39m(var3))\n",
      "\u001b[1;31mTypeError\u001b[0m: can only concatenate str (not \"int\") to str"
     ]
    }
   ],
   "source": [
    "var1 = input(\"Enter the value:\")\n",
    "print(var1)\n",
    "print(type(var1))\n",
    "var2 = int(input(\"Enter the value:\"))\n",
    "print(var2)\n",
    "print(type(var2))\n",
    "var3= var1+var2\n",
    "print(var3)\n",
    "print(type(var3))\n"
   ]
  },
  {
   "cell_type": "code",
   "execution_count": 30,
   "id": "d436335d",
   "metadata": {},
   "outputs": [],
   "source": [
    "# float "
   ]
  },
  {
   "cell_type": "code",
   "execution_count": 32,
   "id": "2cbd8842",
   "metadata": {},
   "outputs": [
    {
     "name": "stdout",
     "output_type": "stream",
     "text": [
      "Enter the values:12\n",
      "Enter the values:11\n",
      "23.0\n",
      "<class 'float'>\n"
     ]
    }
   ],
   "source": [
    "a= int(input(\"Enter the values:\"))\n",
    "b= float(input(\"Enter the values:\"))\n",
    "c= a+b\n",
    "print(c)\n",
    "print(type(c))"
   ]
  },
  {
   "cell_type": "code",
   "execution_count": 35,
   "id": "65cf0730",
   "metadata": {},
   "outputs": [
    {
     "name": "stdout",
     "output_type": "stream",
     "text": [
      "Enter the value:3+7j\n",
      "(3+7j)\n",
      "<class 'complex'>\n"
     ]
    }
   ],
   "source": [
    "#Complex \n",
    "a= complex(input(\"Enter the value:\"))\n",
    "print(a)\n",
    "print(type(a))"
   ]
  },
  {
   "cell_type": "code",
   "execution_count": 36,
   "id": "1f83bc46",
   "metadata": {},
   "outputs": [],
   "source": [
    "# String "
   ]
  },
  {
   "cell_type": "code",
   "execution_count": 37,
   "id": "ed31ef28",
   "metadata": {},
   "outputs": [
    {
     "name": "stdout",
     "output_type": "stream",
     "text": [
      "Ravi\n",
      "Ravi\n",
      "Ravi\n",
      "<class 'str'>\n",
      "<class 'str'>\n",
      "<class 'str'>\n"
     ]
    }
   ],
   "source": [
    "var='Ravi'\n",
    "var1=\"Ravi\"\n",
    "var2='''Ravi'''\n",
    "print(var)\n",
    "print(var1)\n",
    "print(var2)\n",
    "print(type(var))\n",
    "print(type(var1))\n",
    "print(type(var2))"
   ]
  },
  {
   "cell_type": "code",
   "execution_count": 43,
   "id": "f816cfca",
   "metadata": {},
   "outputs": [
    {
     "name": "stdout",
     "output_type": "stream",
     "text": [
      "Enter tha name Ravi\n",
      "Ravi\n",
      "<class 'str'>\n"
     ]
    }
   ],
   "source": [
    "a= input('Enter tha name ')\n",
    "print(a)\n",
    "print(type(a))"
   ]
  },
  {
   "cell_type": "code",
   "execution_count": 60,
   "id": "9d974b5d",
   "metadata": {},
   "outputs": [
    {
     "name": "stdout",
     "output_type": "stream",
     "text": [
      "0\n",
      "['Python', 'Python', 'Programing']\n",
      " Python Training  Java \n",
      " Python Training  Java \n",
      "0\n",
      "Training Training Programing\n"
     ]
    }
   ],
   "source": [
    "# Methods of String\n",
    "S= \"Python Python Programing\"\n",
    "S1= \" Python Training\"\n",
    "S2= \" Java \"\n",
    "\n",
    "print(S.count(\"p\"))# Count \n",
    "s3=S.split() # Split\n",
    "print(s3)\n",
    "print(\" \".join([S1,S2])) #Join\n",
    "s4=S1 +\" \" + S2 # concatination\n",
    "print(s4)\n",
    "s5=S.find(\"Python\")\n",
    "print(s5)\n",
    "s6= S.replace(\"Python\",\"Training\")\n",
    "print(s6)"
   ]
  },
  {
   "cell_type": "code",
   "execution_count": null,
   "id": "6879e126",
   "metadata": {},
   "outputs": [],
   "source": []
  }
 ],
 "metadata": {
  "kernelspec": {
   "display_name": "Python 3.10.7 64-bit",
   "language": "python",
   "name": "python3"
  },
  "language_info": {
   "codemirror_mode": {
    "name": "ipython",
    "version": 3
   },
   "file_extension": ".py",
   "mimetype": "text/x-python",
   "name": "python",
   "nbconvert_exporter": "python",
   "pygments_lexer": "ipython3",
   "version": "3.10.7"
  },
  "vscode": {
   "interpreter": {
    "hash": "aee8b7b246df8f9039afb4144a1f6fd8d2ca17a180786b69acc140d282b71a49"
   }
  }
 },
 "nbformat": 4,
 "nbformat_minor": 5
}
