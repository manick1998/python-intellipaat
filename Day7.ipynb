{
 "cells": [
  {
   "cell_type": "code",
   "execution_count": 1,
   "id": "03fa6019",
   "metadata": {},
   "outputs": [],
   "source": [
    "# OOP's "
   ]
  },
  {
   "cell_type": "code",
   "execution_count": 3,
   "id": "0d65464b",
   "metadata": {},
   "outputs": [],
   "source": [
    "class Example:\n",
    "    def Display():\n",
    "        pass"
   ]
  },
  {
   "cell_type": "code",
   "execution_count": 6,
   "id": "f9a16145",
   "metadata": {},
   "outputs": [],
   "source": [
    "#class class_name:\n",
    "    #Data members - Variables \n",
    "    #Data Function "
   ]
  },
  {
   "cell_type": "code",
   "execution_count": 7,
   "id": "c8b7aa99",
   "metadata": {},
   "outputs": [],
   "source": [
    "# Class - BLues print (of requiredments / design step,  Project flow)\n",
    "# Class include \n",
    "# 1. Data members - 1. Variables\n",
    "# 2. Data function - 1. USer defined , inbuild , parametersied \n",
    "\n",
    "# Synatx: class class-name:\n",
    "#   Data members\n",
    "# functions \n",
    "\n",
    "    "
   ]
  },
  {
   "cell_type": "code",
   "execution_count": 1,
   "id": "7ac5ab60",
   "metadata": {},
   "outputs": [
    {
     "name": "stdout",
     "output_type": "stream",
     "text": [
      "var= 10\n"
     ]
    }
   ],
   "source": [
    "class Sample:\n",
    "    var = 10  # Data member\n",
    "    print(\"var=\",var) # Display \n",
    "    def func(self):\n",
    "        print(\"Rudra\")\n",
    "    \n",
    "    "
   ]
  },
  {
   "cell_type": "code",
   "execution_count": null,
   "id": "7d0f73fc",
   "metadata": {},
   "outputs": [],
   "source": [
    "class Sample1:\n",
    "    pass\n"
   ]
  },
  {
   "cell_type": "code",
   "execution_count": 28,
   "id": "01bb8cce",
   "metadata": {},
   "outputs": [],
   "source": [
    "# Create a object "
   ]
  },
  {
   "cell_type": "code",
   "execution_count": 3,
   "id": "cbce181a",
   "metadata": {},
   "outputs": [
    {
     "name": "stdout",
     "output_type": "stream",
     "text": [
      "Rudra\n"
     ]
    }
   ],
   "source": [
    "# syntax : object-name = classname()\n",
    "obj1=Sample()\n",
    "\n",
    "obj1.func()"
   ]
  },
  {
   "cell_type": "code",
   "execution_count": 4,
   "id": "98d49621",
   "metadata": {},
   "outputs": [
    {
     "name": "stdout",
     "output_type": "stream",
     "text": [
      "Shiva\n",
      "20\n",
      "Sandarya\n",
      "26\n"
     ]
    }
   ],
   "source": [
    "class Base:\n",
    "    def __init__(self,name,age):\n",
    "        self.name = name\n",
    "        self.age = age\n",
    "    def Display(self):   \n",
    "        print(self.name)\n",
    "        print(self.age)\n",
    "\n",
    "obj=Base(\"Shiva\",20)\n",
    "obj1=Base(\"Sandarya\",26)\n",
    "obj.Display()\n",
    "obj1.Display()"
   ]
  },
  {
   "cell_type": "code",
   "execution_count": 7,
   "id": "ff025f36",
   "metadata": {},
   "outputs": [
    {
     "name": "stdout",
     "output_type": "stream",
     "text": [
      "enter the name:manick\n",
      "enter the city:mangundampatti\n",
      "name: manick   city: mangundampatti\n"
     ]
    }
   ],
   "source": [
    "class Parent:\n",
    "    var=20\n",
    "    print(\"var=\",var)\n",
    "    def __init__(self):\n",
    "        self.names=input(\"Enter the value:\")\n",
    "        self.ages= int(input(\"Enter the value:\"))\n",
    "    \n",
    "    def display(self):\n",
    "        print(\"Name=\",self.names,\" \",\"age=\",self.ages)\n",
    "        \n",
    "obj1=Parent()\n",
    "obj1.display()\n",
    "\n",
    "\n",
    "\n",
    "\n",
    "\n",
    "\n",
    "class Child:\n",
    "    def __init__(self):\n",
    "        self.name = input(\"enter the name:\")\n",
    "        self.city = input(\"enter the city:\")\n",
    "        \n",
    "    def Display(self):\n",
    "        print(\"name:\",self.name,\" \",\"city:\",self.city)\n",
    "\n",
    "obj1=Child()\n",
    "obj1.Display()\n",
    "\n"
   ]
  },
  {
   "cell_type": "code",
   "execution_count": null,
   "id": "45185839",
   "metadata": {},
   "outputs": [],
   "source": []
  },
  {
   "cell_type": "code",
   "execution_count": 46,
   "id": "5ef0a355",
   "metadata": {},
   "outputs": [],
   "source": [
    "# Inheritance "
   ]
  },
  {
   "cell_type": "code",
   "execution_count": 47,
   "id": "7c8f8d57",
   "metadata": {},
   "outputs": [],
   "source": [
    "# Single Inheritance "
   ]
  },
  {
   "cell_type": "code",
   "execution_count": 48,
   "id": "52ecccec",
   "metadata": {},
   "outputs": [
    {
     "name": "stdout",
     "output_type": "stream",
     "text": [
      "26\n",
      "ZIA\n"
     ]
    }
   ],
   "source": [
    "class Base:\n",
    "    def __init__(self):\n",
    "        self.name=\"ZIA\"\n",
    "        self.age= 26\n",
    "        \n",
    "    def dis1(self):\n",
    "        print(self.name)\n",
    "        \n",
    "class child(Base):\n",
    "    def dis2(self):\n",
    "        print(self.age)\n",
    "        \n",
    "obj1=child()\n",
    "obj1.dis2()\n",
    "obj1.dis1()\n",
    "    "
   ]
  },
  {
   "cell_type": "code",
   "execution_count": 20,
   "id": "63bc22bb",
   "metadata": {},
   "outputs": [
    {
     "name": "stdout",
     "output_type": "stream",
     "text": [
      "24\n",
      "manick\n"
     ]
    }
   ],
   "source": [
    "class Base1:\n",
    "    def __init__(self):\n",
    "        self.name =\"manick\"\n",
    "        self.age=\"24\"\n",
    "        \n",
    "    def dis2(self):\n",
    "        print(self.name)\n",
    "\n",
    "class  child1(Base1):\n",
    "    def dis3(self):\n",
    "        print(self.age)\n",
    "        \n",
    "        \n",
    "obj2=child1()\n",
    "obj2.dis3()\n",
    "obj2.dis2()\n",
    "\n",
    "\n",
    "  \n",
    "# class Base1:\n",
    "#     def __init__(self):\n",
    "#         self.name = \"manick\"\n",
    "#         self.age = \"24\"\n",
    "        \n",
    "#     def dis2(self):\n",
    "#         print(self.name)\n",
    "\n",
    "# class child1(Base1):\n",
    "#     def dis3(self):\n",
    "#         print(self.age)\n",
    "        \n",
    "        \n",
    "# obj2 = child1()\n",
    "# obj2.dis3()\n",
    "# obj2.dis2()\n",
    "\n",
    "        "
   ]
  }
 ],
 "metadata": {
  "kernelspec": {
   "display_name": "Python 3 (ipykernel)",
   "language": "python",
   "name": "python3"
  },
  "language_info": {
   "codemirror_mode": {
    "name": "ipython",
    "version": 3
   },
   "file_extension": ".py",
   "mimetype": "text/x-python",
   "name": "python",
   "nbconvert_exporter": "python",
   "pygments_lexer": "ipython3",
   "version": "3.9.13"
  }
 },
 "nbformat": 4,
 "nbformat_minor": 5
}
