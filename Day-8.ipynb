{
 "cells": [
  {
   "cell_type": "code",
   "execution_count": null,
   "id": "1e97b602",
   "metadata": {},
   "outputs": [],
   "source": [
    "# Multilevel"
   ]
  },
  {
   "cell_type": "code",
   "execution_count": 1,
   "id": "8cbdd270",
   "metadata": {},
   "outputs": [
    {
     "name": "stdout",
     "output_type": "stream",
     "text": [
      "Enter the sub:maths\n",
      "Enter the name manickaraj\n",
      "enter your age24\n",
      "Enter the prof_name raguvaran\n",
      "manickaraj\n",
      "24\n",
      "maths\n",
      "raguvaran\n",
      "manickaraj\n",
      "24\n",
      "maths\n"
     ]
    }
   ],
   "source": [
    "class Base:\n",
    "    def __init__(self):\n",
    "        self.name=\"Omer\"\n",
    "        self.age=40\n",
    "       \n",
    "    def fun1(self):\n",
    "        print(self.name)\n",
    "        print(self.age)\n",
    "     \n",
    "        \n",
    "class child1(Base):\n",
    "    def __init__(self):\n",
    "        Base.__init__(self)   # Important \n",
    "        self.sub= input(\"Enter the value:\")\n",
    "        self.age=int(input(\"Enter the age\"))\n",
    "        \n",
    "    def fun2(self):\n",
    "        print(self.name)\n",
    "        print(self.age)\n",
    "        print(self.sub)\n",
    "        \n",
    "class child2(child1):\n",
    "    def __init__(self):\n",
    "        child1.__init__(self)\n",
    "        self.prof_name=input(\"Enter the value \") \n",
    "        \n",
    "    def fun3(self):\n",
    "        print(self.name)\n",
    "        print(self.age)\n",
    "        print(self.sub)\n",
    "        print(self.prof_name)\n",
    "        \n",
    "obj1=child2()  # Object creation\n",
    "obj1.fun1() # function call\n",
    "obj1.fun2()# function call\n",
    "obj1.fun3() # Function call\n",
    "\n",
    "\n",
    "\n",
    "#pratice\n",
    "\n",
    "class Sample:\n",
    "    def __init__(self):\n",
    "        self.name=\"manick\"\n",
    "        self.age=24\n",
    "        \n",
    "class child(Sample):\n",
    "    def __init__(self): \n",
    "        Sample.__init__(self)\n",
    "        self.sub= input(\"Enter the sub:\")\n",
    "        self.name =input(\"Enter the name \") \n",
    "        self.age = int(input(\"enter your age\"))\n",
    "        \n",
    "    def fun2(self):\n",
    "        print(self.name)\n",
    "        print(self.age)\n",
    "        print(self.sub)\n",
    "        \n",
    "class child1(child):\n",
    "    def __init__(self):\n",
    "        child.__init__(self)\n",
    "        self.prof_name=input(\"Enter the prof_name \") \n",
    "        \n",
    "    def fun3(self):\n",
    "        print(self.name)\n",
    "        print(self.age)\n",
    "        print(self.sub)\n",
    "        print(self.prof_name)\n",
    "        \n",
    "        \n",
    "        \n",
    "obj = child1()\n",
    "obj.fun3()\n",
    "obj.fun2()\n",
    "        \n",
    "       "
   ]
  },
  {
   "cell_type": "code",
   "execution_count": 1,
   "id": "a82a3b29",
   "metadata": {},
   "outputs": [
    {
     "name": "stdout",
     "output_type": "stream",
     "text": [
      "Enter your nameragu\n",
      "Enter age29\n",
      "Enter the subjectstatistics\n",
      "Enter the mark 0\n",
      "Enter your serial number123\n"
     ]
    },
    {
     "data": {
      "text/plain": [
       "123"
      ]
     },
     "execution_count": 1,
     "metadata": {},
     "output_type": "execute_result"
    }
   ],
   "source": [
    "class Base:\n",
    "    def __init__(self):\n",
    "        self.name=input(\"Enter your name\")\n",
    "        self.age = int(input(\"Enter age\"))\n",
    "        \n",
    "    def fun1(self):\n",
    "            return self.name\n",
    "            return self.age\n",
    "        \n",
    "class child1(Base):\n",
    "    def __init__(self):\n",
    "        Base.__init__(self)\n",
    "        self.sub = input(\"Enter the subject\")\n",
    "        self.mark= int(input(\"Enter the mark \"))\n",
    "    def fun2(self):\n",
    "        return self.sub\n",
    "        return self.mark\n",
    "\n",
    "class child2(child1):\n",
    "    def __init__(self):\n",
    "        child1.__init__(self)\n",
    "        self.slno = int(input(\"Enter your serial number\"))\n",
    "            \n",
    "    def fun3(self):\n",
    "        return self.slno\n",
    "\n",
    "obj = child2()\n",
    "obj.fun1()\n",
    "obj.fun2()\n",
    "obj.fun3()\n"
   ]
  },
  {
   "cell_type": "code",
   "execution_count": null,
   "id": "1ec9f085",
   "metadata": {},
   "outputs": [],
   "source": [
    "# Multiple "
   ]
  },
  {
   "cell_type": "code",
   "execution_count": 2,
   "id": "6635daef",
   "metadata": {},
   "outputs": [
    {
     "name": "stdout",
     "output_type": "stream",
     "text": [
      "Enter the Name:manick\n",
      "Enter the score100\n",
      "manick 100 Student\n"
     ]
    }
   ],
   "source": [
    "class Parent1:\n",
    "    def __init__(self):\n",
    "        self.name=input(\"Enter the Name:\")\n",
    "        \n",
    "class Parent2:\n",
    "    def __init__(self):\n",
    "        self.score=int(input(\"Enter the score\"))\n",
    "        \n",
    "class child(Parent1,Parent2):\n",
    "    def __init__(self):\n",
    "        Parent1.__init__(self)\n",
    "        Parent2.__init__(self)\n",
    "        self.Prof=\"Student\"\n",
    "    def display(self):\n",
    "        print(self.name,self.score,self.Prof)\n",
    "\n",
    "obj1=child()\n",
    "obj1.display()"
   ]
  },
  {
   "cell_type": "code",
   "execution_count": null,
   "id": "ab480b28",
   "metadata": {},
   "outputs": [],
   "source": [
    "# Hierarchical "
   ]
  },
  {
   "cell_type": "code",
   "execution_count": 4,
   "id": "8d0fc195",
   "metadata": {},
   "outputs": [
    {
     "name": "stdout",
     "output_type": "stream",
     "text": [
      "enter the namemanick\n",
      "enter the roll no12345\n",
      "enter the subjectscience\n",
      "enter the nameravi\n",
      "enter the roll no123\n",
      "enter the addresssivakasi\n",
      "manick\n",
      "12345\n",
      "science\n",
      "ravi\n",
      "123\n",
      "sivakasi\n"
     ]
    }
   ],
   "source": [
    "# class Student:\n",
    "#     def __init__(self):\n",
    "#         self.stu_name=input(\"Enter the name:\")\n",
    "#         self.stu_roll=int(input(\"Enter the roll\"))\n",
    "# class child1(Student):\n",
    "#     def __init__(self):\n",
    "#         Student.__init__(self)\n",
    "#         self.subject=input(\"Enter the subject\")\n",
    "#     def display1(self):\n",
    "#         print(self.stu_name)\n",
    "#         print(self.stu_roll)\n",
    "#         print(self.subject)\n",
    "        \n",
    "# class child2(Student):\n",
    "#     def __init__(self):\n",
    "#         Student.__init__(self)\n",
    "#         self.Address=input(\"Enter the address:\")\n",
    "#     def display2(self):\n",
    "#         print(self.stu_name)\n",
    "#         print(self.stu_roll)\n",
    "#         print(self.Address)\n",
    "        \n",
    "# obj1=child1()\n",
    "# obj2=child2()\n",
    "# obj1.display1()\n",
    "# obj2.display2()\n",
    "\n",
    "\n",
    "\n",
    "#pratice\n",
    "class Student:\n",
    "    def __init__(self):\n",
    "        self.stu_name = input(\"enter the name\")\n",
    "        self.stu_roll=int(input(\"enter the roll no\"))\n",
    "        \n",
    "class child1(Student):\n",
    "    def __init__(self):\n",
    "        Student.__init__(self)\n",
    "        self.subject = input(\"enter the subject\")\n",
    "        \n",
    "    def display(self):\n",
    "        print(self.stu_name)\n",
    "        print(self.stu_roll)\n",
    "        print(self.subject)\n",
    "\n",
    "class child2(Student):\n",
    "    def __init__(self):\n",
    "        Student.__init__(self)\n",
    "        self.address = input(\"enter the address\")\n",
    "        \n",
    "    def display1(self):\n",
    "        print(self.stu_name)\n",
    "        print(self.stu_roll)\n",
    "        print(self.address)\n",
    "        \n",
    "        \n",
    "obj1=child1()\n",
    "obj2=child2()\n",
    "obj1.display()\n",
    "obj2.display1()\n",
    "\n",
    "    \n",
    "    "
   ]
  },
  {
   "cell_type": "code",
   "execution_count": null,
   "id": "4a5a48bf",
   "metadata": {},
   "outputs": [],
   "source": [
    "# Encapsulation"
   ]
  },
  {
   "cell_type": "code",
   "execution_count": 16,
   "id": "800a3131",
   "metadata": {},
   "outputs": [
    {
     "name": "stdout",
     "output_type": "stream",
     "text": [
      "Manick 1020101\n",
      "Manick\n",
      "Manick\n"
     ]
    }
   ],
   "source": [
    "class Parent:\n",
    "    def __init__(self):\n",
    "        self._name=\"Manick\" # public for next class    _ public\n",
    "                           #__private\n",
    "        self.__pass=1020101 # Protected or some private only for next class\n",
    "    \n",
    "    def _display1(self):\n",
    "        print(self._name,self.__pass)\n",
    "        \n",
    "class child(Parent):\n",
    "    def display2(self):\n",
    "        print(self._name)\n",
    "        \n",
    "class child1(child):\n",
    "    def display3(self):\n",
    "        print(self._name)\n",
    "\n",
    "\n",
    "obj1=child1()\n",
    "obj1._display1()\n",
    "obj1.display2()\n",
    "obj1.display3() \n",
    "\n",
    "\n"
   ]
  },
  {
   "cell_type": "code",
   "execution_count": null,
   "id": "a8478a6a",
   "metadata": {},
   "outputs": [],
   "source": [
    "# Polymorphism   --manyforms"
   ]
  },
  {
   "cell_type": "code",
   "execution_count": 12,
   "id": "ff6d252d",
   "metadata": {},
   "outputs": [
    {
     "name": "stdout",
     "output_type": "stream",
     "text": [
      "Square 16\n",
      "Rectangle 50\n"
     ]
    }
   ],
   "source": [
    "class Parent:\n",
    "    def __init__(self):\n",
    "        self.shape=\"Square\"\n",
    "        self.side=4\n",
    "        \n",
    "    def Area(self):\n",
    "        print(self.shape,self.side**2)\n",
    "        \n",
    "class child:\n",
    "    def __init__(self):\n",
    "        self.shape=\"Rectangle\"\n",
    "        self.length=10\n",
    "        self.breadth=5\n",
    "    \n",
    "    def Area(self):\n",
    "        print(self.shape,self.length * self.breadth)\n",
    "        \n",
    "obj1=Parent()\n",
    "obj2=child()\n",
    "obj1.Area()\n",
    "obj2.Area()\n",
    "\n",
    "\n",
    "\n",
    "#pratice\n",
    "class Parent:\n",
    "    def __init__(self):\n",
    "        self.shape = \"Square\"\n",
    "        self.side = 4\n",
    "        \n",
    "    def Area(self):\n",
    "        print(self.shape,self.side**2)\n",
    "        \n",
    "\n",
    "class child:\n",
    "    def __init__(self):\n",
    "        self.shape =\"Rectangle\"\n",
    "        self.length = 10\n",
    "        self.breadth = 5\n",
    "        \n",
    "    def Area(self):\n",
    "        print(self.shape,self.length*self.breadth)\n",
    "        \n",
    "\n",
    "obj1=Parent()\n",
    "obj2=child()\n",
    "obj1.Area()\n",
    "obj2.Area()\n"
   ]
  },
  {
   "cell_type": "code",
   "execution_count": null,
   "id": "0cff5795",
   "metadata": {},
   "outputs": [],
   "source": []
  }
 ],
 "metadata": {
  "kernelspec": {
   "display_name": "Python 3 (ipykernel)",
   "language": "python",
   "name": "python3"
  },
  "language_info": {
   "codemirror_mode": {
    "name": "ipython",
    "version": 3
   },
   "file_extension": ".py",
   "mimetype": "text/x-python",
   "name": "python",
   "nbconvert_exporter": "python",
   "pygments_lexer": "ipython3",
   "version": "3.9.13"
  }
 },
 "nbformat": 4,
 "nbformat_minor": 5
}
