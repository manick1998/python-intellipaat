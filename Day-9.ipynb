{
 "cells": [
  {
   "cell_type": "code",
   "execution_count": 1,
   "id": "5c1ea131",
   "metadata": {},
   "outputs": [],
   "source": [
    "# Data Abstraction "
   ]
  },
  {
   "cell_type": "code",
   "execution_count": 1,
   "id": "14759edd",
   "metadata": {},
   "outputs": [],
   "source": [
    "#from abc import ABC, abstractmethod\n",
    "from abc import abstractmethod\n",
    "from abc import ABC"
   ]
  },
  {
   "cell_type": "code",
   "execution_count": 4,
   "id": "1ed75adb",
   "metadata": {},
   "outputs": [
    {
     "name": "stdout",
     "output_type": "stream",
     "text": [
      "Abstraction\n"
     ]
    }
   ],
   "source": [
    "class Sample(ABC):\n",
    "    def Abs_method(self):\n",
    "        pass\n",
    "class child(Sample):\n",
    "    def Abs_method(self):\n",
    "        print(\"Abstraction\")\n",
    "    \n",
    "obj=child()\n",
    "obj.Abs_method()"
   ]
  },
  {
   "cell_type": "code",
   "execution_count": 5,
   "id": "7092775d",
   "metadata": {},
   "outputs": [
    {
     "name": "stdout",
     "output_type": "stream",
     "text": [
      "Abstraction\n"
     ]
    }
   ],
   "source": [
    "# Method Overriding\n",
    "class Sample(ABC):\n",
    "    def Abs_method(self):\n",
    "        print(\"Welcome\")\n",
    "class child(Sample):\n",
    "    def Abs_method(self):\n",
    "        print(\"Abstraction\")\n",
    "    \n",
    "obj=child()\n",
    "obj.Abs_method()"
   ]
  },
  {
   "cell_type": "code",
   "execution_count": 7,
   "id": "8917768d",
   "metadata": {},
   "outputs": [
    {
     "name": "stdout",
     "output_type": "stream",
     "text": [
      "Welcome\n",
      "Abstraction\n"
     ]
    }
   ],
   "source": [
    "# Concrete Method \n",
    "class Sample(ABC):\n",
    "    def Abs_metho d(self):\n",
    "        print(\"Welcome\")\n",
    "class child(Sample):\n",
    "    def Abs_method(self):\n",
    "        super().Abs_method() # super().Method/function name \n",
    "        print(\"Abstraction\")\n",
    "    \n",
    "obj=child()\n",
    "obj.Abs_method()"
   ]
  },
  {
   "cell_type": "code",
   "execution_count": 18,
   "id": "8e269fee",
   "metadata": {},
   "outputs": [],
   "source": [
    "# Recursion"
   ]
  },
  {
   "cell_type": "code",
   "execution_count": 8,
   "id": "a01bcd1c",
   "metadata": {
    "scrolled": true
   },
   "outputs": [
    {
     "name": "stdout",
     "output_type": "stream",
     "text": [
      "Enter the value:3\n",
      "6\n"
     ]
    }
   ],
   "source": [
    "def Fact(n):\n",
    "    if n==1:\n",
    "        return 1\n",
    "    else:\n",
    "        return (n*Fact(n-1))\n",
    "\n",
    "num=int(input(\"Enter the value:\"))\n",
    "print(Fact(num))"
   ]
  },
  {
   "cell_type": "code",
   "execution_count": 20,
   "id": "bcb683b3",
   "metadata": {},
   "outputs": [],
   "source": [
    "# NumPy\n",
    "#DATA MANIPULTION --PROCESS OF CONVERTING DATA INTO A SUITABLE FORMAT THAT'S IS FOR THE EASY TO PROCESS AND MORE ORGANIZED"
   ]
  },
  {
   "cell_type": "code",
   "execution_count": 24,
   "id": "3809f13a",
   "metadata": {},
   "outputs": [],
   "source": [
    "import numpy"
   ]
  },
  {
   "cell_type": "code",
   "execution_count": 32,
   "id": "8a467301",
   "metadata": {},
   "outputs": [],
   "source": [
    "import numpy as np"
   ]
  },
  {
   "cell_type": "code",
   "execution_count": 12,
   "id": "9d1157ec",
   "metadata": {},
   "outputs": [
    {
     "name": "stdout",
     "output_type": "stream",
     "text": [
      "[10 20 30 40]\n",
      "<class 'numpy.ndarray'>\n"
     ]
    }
   ],
   "source": [
    "# array1=np.array([10,20,30,40,50])\n",
    "# print(array1)\n",
    "# print(type(array1))\n",
    "\n",
    "array1 =np.array([10,20,30,40])\n",
    "print(array1)\n",
    "print(type(array1))  \n"
   ]
  },
  {
   "cell_type": "code",
   "execution_count": 11,
   "id": "ac52686c",
   "metadata": {},
   "outputs": [
    {
     "name": "stdout",
     "output_type": "stream",
     "text": [
      "[10 20 30 40 50]\n",
      "<class 'numpy.ndarray'>\n"
     ]
    }
   ],
   "source": [
    "\n",
    "array2=np.array((10,20,30,40,50))\n",
    "print(array2)\n",
    "print(type(array2))"
   ]
  },
  {
   "cell_type": "code",
   "execution_count": 14,
   "id": "5ac33d17",
   "metadata": {},
   "outputs": [
    {
     "name": "stdout",
     "output_type": "stream",
     "text": [
      "10\n",
      "<class 'numpy.ndarray'>\n"
     ]
    }
   ],
   "source": [
    "a3=np.array(10) # Zero Dimentions\n",
    "print(a3)\n",
    "print(type(a3))"
   ]
  },
  {
   "cell_type": "code",
   "execution_count": 37,
   "id": "61794fd9",
   "metadata": {},
   "outputs": [
    {
     "name": "stdout",
     "output_type": "stream",
     "text": [
      "[10 20 30 40 50]\n"
     ]
    }
   ],
   "source": [
    "array2=np.array((10,20,30,40,50)) # One - Dimetions\n",
    "print(array2)"
   ]
  },
  {
   "cell_type": "code",
   "execution_count": 15,
   "id": "d7fb160e",
   "metadata": {},
   "outputs": [
    {
     "name": "stdout",
     "output_type": "stream",
     "text": [
      "[[1 2]\n",
      " [3 4]\n",
      " [5 6]]\n"
     ]
    }
   ],
   "source": [
    "a4=np.array(([1,2],[3,4],[5,6])) # 2 or multi\n",
    "print(a4)"
   ]
  },
  {
   "cell_type": "code",
   "execution_count": 73,
   "id": "a592b4d5",
   "metadata": {},
   "outputs": [
    {
     "name": "stdout",
     "output_type": "stream",
     "text": [
      "[[ 1  2 10]\n",
      " [ 3  4 20]\n",
      " [ 5  6 40]]\n"
     ]
    }
   ],
   "source": [
    "a4=np.array(([1,2,10],[3,4,20],[5,6,40]))\n",
    "print(a4)"
   ]
  },
  {
   "cell_type": "code",
   "execution_count": 16,
   "id": "4fc06210",
   "metadata": {},
   "outputs": [
    {
     "data": {
      "text/plain": [
       "array([[4, 4],\n",
       "       [4, 4],\n",
       "       [4, 4]])"
      ]
     },
     "execution_count": 16,
     "metadata": {},
     "output_type": "execute_result"
    }
   ],
   "source": [
    "np.full((2,2),5)  # Full \n",
    "#pratice\n",
    "np.full((3,2),4)"
   ]
  },
  {
   "cell_type": "code",
   "execution_count": 41,
   "id": "a375f640",
   "metadata": {},
   "outputs": [
    {
     "data": {
      "text/plain": [
       "array([[5, 5, 5],\n",
       "       [5, 5, 5],\n",
       "       [5, 5, 5]])"
      ]
     },
     "execution_count": 41,
     "metadata": {},
     "output_type": "execute_result"
    }
   ],
   "source": [
    "np.full((3,3),5)"
   ]
  },
  {
   "cell_type": "code",
   "execution_count": 43,
   "id": "19e7b33f",
   "metadata": {},
   "outputs": [
    {
     "data": {
      "text/plain": [
       "array([20, 25, 30, 35, 40, 45])"
      ]
     },
     "execution_count": 43,
     "metadata": {},
     "output_type": "execute_result"
    }
   ],
   "source": [
    "# Arange\n",
    "np.arange(20,50,5) # 10-25 ---  5 intervals "
   ]
  },
  {
   "cell_type": "code",
   "execution_count": 47,
   "id": "5ce3b88a",
   "metadata": {},
   "outputs": [
    {
     "data": {
      "text/plain": [
       "array([ 5.  ,  6.25,  7.5 ,  8.75, 10.  ])"
      ]
     },
     "execution_count": 47,
     "metadata": {},
     "output_type": "execute_result"
    }
   ],
   "source": [
    "# linspace\n",
    "np.linspace(5,10,5)   #x, y , z #\n",
    "# z(6 & 5)  # x(5) # y(10)"
   ]
  },
  {
   "cell_type": "code",
   "execution_count": 48,
   "id": "5bcdcd00",
   "metadata": {},
   "outputs": [],
   "source": [
    "# Array Inspection"
   ]
  },
  {
   "cell_type": "code",
   "execution_count": 49,
   "id": "e57fdac7",
   "metadata": {},
   "outputs": [],
   "source": [
    "# ndarray.shape"
   ]
  },
  {
   "cell_type": "code",
   "execution_count": 50,
   "id": "0bf86711",
   "metadata": {},
   "outputs": [
    {
     "name": "stdout",
     "output_type": "stream",
     "text": [
      "(2, 3)\n"
     ]
    }
   ],
   "source": [
    "n= np.array(([10,20,30],[40,50,60]))\n",
    "print(n.shape)"
   ]
  },
  {
   "cell_type": "code",
   "execution_count": 51,
   "id": "5fd98d27",
   "metadata": {},
   "outputs": [
    {
     "name": "stdout",
     "output_type": "stream",
     "text": [
      "(3, 3)\n"
     ]
    }
   ],
   "source": [
    "n= np.array(([10,20,30],[40,50,60],[80,90,100]))\n",
    "print(n.shape)"
   ]
  },
  {
   "cell_type": "code",
   "execution_count": 53,
   "id": "74c59ce7",
   "metadata": {},
   "outputs": [
    {
     "name": "stdout",
     "output_type": "stream",
     "text": [
      "(4, 3)\n"
     ]
    }
   ],
   "source": [
    "n= np.array(([9.5,3.5,3],[6,5,6],[8,10,11],[9.3,8.8,1.0]))\n",
    "print(n.shape)"
   ]
  },
  {
   "cell_type": "code",
   "execution_count": 57,
   "id": "939f5337",
   "metadata": {},
   "outputs": [
    {
     "name": "stdout",
     "output_type": "stream",
     "text": [
      "(3, 2)\n"
     ]
    }
   ],
   "source": [
    "n= np.array(([1,2],[0.7,9.6],[2.5,8.9]))\n",
    "print(n.shape)"
   ]
  },
  {
   "cell_type": "code",
   "execution_count": 33,
   "id": "632e2e21",
   "metadata": {},
   "outputs": [
    {
     "name": "stdout",
     "output_type": "stream",
     "text": [
      "[[1.  2. ]\n",
      " [0.7 9.6]\n",
      " [2.5 8.9]]\n",
      "2\n"
     ]
    }
   ],
   "source": [
    "n= np.array(([1,2],[0.7,9.6],[2.5,8.9]))\n",
    "n.shape=(3,2)\n",
    "print(n)\n",
    "print(n.ndim) "
   ]
  },
  {
   "cell_type": "code",
   "execution_count": 65,
   "id": "09ae0871",
   "metadata": {},
   "outputs": [
    {
     "name": "stdout",
     "output_type": "stream",
     "text": [
      "30\n"
     ]
    }
   ],
   "source": [
    "# Size\n",
    "n=np.arange(30)\n",
    "print(n.size)"
   ]
  },
  {
   "cell_type": "code",
   "execution_count": 66,
   "id": "6190cb0d",
   "metadata": {},
   "outputs": [
    {
     "name": "stdout",
     "output_type": "stream",
     "text": [
      "0\n",
      "1\n",
      "2\n"
     ]
    }
   ],
   "source": [
    "# Dimention -ndim\n",
    "print(a3.ndim)\n",
    "print(array2.ndim)\n",
    "print(a4.ndim)"
   ]
  },
  {
   "cell_type": "code",
   "execution_count": 20,
   "id": "4699b1c3",
   "metadata": {},
   "outputs": [
    {
     "name": "stdout",
     "output_type": "stream",
     "text": [
      "int64\n"
     ]
    }
   ],
   "source": [
    "# Dtype\n",
    "print(a4.dtype) "
   ]
  },
  {
   "cell_type": "code",
   "execution_count": 30,
   "id": "001aef45",
   "metadata": {},
   "outputs": [
    {
     "name": "stdout",
     "output_type": "stream",
     "text": [
      "enter the value of a20\n",
      "enter the value of b10\n"
     ]
    },
    {
     "data": {
      "text/plain": [
       "10"
      ]
     },
     "execution_count": 30,
     "metadata": {},
     "output_type": "execute_result"
    }
   ],
   "source": [
    "# mathematics \n",
    "# np.sum(a,b)\n",
    "# np.subtract(a,b)\n",
    "# np.divide(a,b)\n",
    "# np.multiply(a,b)\n",
    "# np.exp(a)\n",
    "# np.sqrt(a)\n",
    "# np.sin(a)\n",
    "# np.cos(a)\n",
    "# np.log(a)\n",
    "\n",
    "\n",
    "a = int(input(\"enter the value of a\"))\n",
    "b = int(input(\"enter the value of b\"))\n",
    "# np.sum([a,b])\n",
    "np.subtract(a, b)\n"
   ]
  },
  {
   "cell_type": "code",
   "execution_count": 70,
   "id": "4edac228",
   "metadata": {},
   "outputs": [
    {
     "data": {
      "text/plain": [
       "22"
      ]
     },
     "execution_count": 70,
     "metadata": {},
     "output_type": "execute_result"
    }
   ],
   "source": [
    "np.sum([10,12]) # addition"
   ]
  },
  {
   "cell_type": "code",
   "execution_count": 34,
   "id": "e4d0b6d7",
   "metadata": {},
   "outputs": [
    {
     "name": "stdout",
     "output_type": "stream",
     "text": [
      "Enter the value:10\n",
      "Enter the value:20\n"
     ]
    },
    {
     "data": {
      "text/plain": [
       "30"
      ]
     },
     "execution_count": 34,
     "metadata": {},
     "output_type": "execute_result"
    }
   ],
   "source": [
    "a=int(input(\"Enter the value:\"))\n",
    "b=int(input(\"Enter the value:\"))\n",
    "np.sum([a,b])"
   ]
  },
  {
   "cell_type": "code",
   "execution_count": null,
   "id": "882deefe",
   "metadata": {},
   "outputs": [],
   "source": []
  }
 ],
 "metadata": {
  "kernelspec": {
   "display_name": "Python 3 (ipykernel)",
   "language": "python",
   "name": "python3"
  },
  "language_info": {
   "codemirror_mode": {
    "name": "ipython",
    "version": 3
   },
   "file_extension": ".py",
   "mimetype": "text/x-python",
   "name": "python",
   "nbconvert_exporter": "python",
   "pygments_lexer": "ipython3",
   "version": "3.9.13"
  }
 },
 "nbformat": 4,
 "nbformat_minor": 5
}
