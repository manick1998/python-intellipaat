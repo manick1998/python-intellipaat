{
 "cells": [
  {
   "cell_type": "code",
   "execution_count": 1,
   "id": "51afb760",
   "metadata": {},
   "outputs": [],
   "source": [
    "# Function"
   ]
  },
  {
   "cell_type": "code",
   "execution_count": 7,
   "id": "8098c702",
   "metadata": {},
   "outputs": [],
   "source": [
    "def add():\n",
    "    a=int(input(\"Enter the value:\"))\n",
    "    b=int(input(\"Enter the value:\"))\n",
    "    c=a+b\n",
    "    print(c)\n",
    "    return c\n",
    "\n",
    "#add() # Calling "
   ]
  },
  {
   "cell_type": "code",
   "execution_count": 8,
   "id": "997977e0",
   "metadata": {},
   "outputs": [
    {
     "name": "stdout",
     "output_type": "stream",
     "text": [
      "Enter the value:12\n",
      "Enter the value:13\n",
      "25\n"
     ]
    },
    {
     "data": {
      "text/plain": [
       "25"
      ]
     },
     "execution_count": 8,
     "metadata": {},
     "output_type": "execute_result"
    }
   ],
   "source": [
    "add()"
   ]
  },
  {
   "cell_type": "code",
   "execution_count": 9,
   "id": "0feab55e",
   "metadata": {},
   "outputs": [],
   "source": [
    "# Inbuit Function"
   ]
  },
  {
   "cell_type": "code",
   "execution_count": 12,
   "id": "28b53f44",
   "metadata": {},
   "outputs": [],
   "source": [
    "import math\n",
    "\n",
    "def func()\n",
    "    var=10\n",
    "    print(math.pow(10,2))\n",
    "    "
   ]
  },
  {
   "cell_type": "code",
   "execution_count": 13,
   "id": "c0994ff5",
   "metadata": {},
   "outputs": [
    {
     "name": "stdout",
     "output_type": "stream",
     "text": [
      "100.0\n"
     ]
    }
   ],
   "source": [
    "func()"
   ]
  },
  {
   "cell_type": "code",
   "execution_count": 14,
   "id": "bcf9dfd1",
   "metadata": {},
   "outputs": [
    {
     "data": {
      "text/plain": [
       "100.0"
      ]
     },
     "execution_count": 14,
     "metadata": {},
     "output_type": "execute_result"
    }
   ],
   "source": [
    "import math\n",
    "#var=10\n",
    "math.pow(10,2)"
   ]
  },
  {
   "cell_type": "code",
   "execution_count": 15,
   "id": "95087bf5",
   "metadata": {},
   "outputs": [
    {
     "name": "stdout",
     "output_type": "stream",
     "text": [
      "Enter the value:10\n"
     ]
    },
    {
     "data": {
      "text/plain": [
       "100"
      ]
     },
     "execution_count": 15,
     "metadata": {},
     "output_type": "execute_result"
    }
   ],
   "source": [
    "def power():\n",
    "    x=int(input(\"Enter the value:\"))\n",
    "    return x**2\n",
    "power()"
   ]
  },
  {
   "cell_type": "code",
   "execution_count": 24,
   "id": "8f99cf1a",
   "metadata": {},
   "outputs": [
    {
     "name": "stdout",
     "output_type": "stream",
     "text": [
      "Enter the value:12\n",
      "Enter the value:14\n"
     ]
    }
   ],
   "source": [
    "def func(x,y):\n",
    "    x=x+10\n",
    "    y=y+20\n",
    "    return x+y\n",
    "\n",
    "a=int(input(\"Enter the value:\"))\n",
    "b=int(input(\"Enter the value:\"))\n",
    "func(a,b)\n"
   ]
  },
  {
   "cell_type": "code",
   "execution_count": 27,
   "id": "4b317311",
   "metadata": {},
   "outputs": [
    {
     "name": "stdout",
     "output_type": "stream",
     "text": [
      "Enter the value:13\n",
      "Enter the value:15\n"
     ]
    },
    {
     "data": {
      "text/plain": [
       "58"
      ]
     },
     "execution_count": 27,
     "metadata": {},
     "output_type": "execute_result"
    }
   ],
   "source": [
    "def func(var1,var2):\n",
    "    var1=var1+10\n",
    "    var2=var2+20\n",
    "    return var1+var2\n",
    "\n",
    "x=int(input(\"Enter the value:\"))\n",
    "y=int(input(\"Enter the value:\"))\n",
    "func(x,y)\n"
   ]
  },
  {
   "cell_type": "code",
   "execution_count": 28,
   "id": "4ec0f308",
   "metadata": {},
   "outputs": [],
   "source": [
    "# Probelm 1: Write a function to find maximum of three numbers."
   ]
  },
  {
   "cell_type": "code",
   "execution_count": 29,
   "id": "18674b83",
   "metadata": {},
   "outputs": [
    {
     "name": "stdout",
     "output_type": "stream",
     "text": [
      "30\n"
     ]
    }
   ],
   "source": [
    "def max2(a,b):\n",
    "    if a>b:\n",
    "        return a\n",
    "    return b\n",
    "\n",
    "def max3(a,b,c):\n",
    "    return max2(a,max2(b,c))\n",
    "\n",
    "print(max3(10,30,20))"
   ]
  },
  {
   "cell_type": "code",
   "execution_count": 30,
   "id": "7e5c7ef7",
   "metadata": {},
   "outputs": [
    {
     "name": "stdout",
     "output_type": "stream",
     "text": [
      "Enter the value12\n",
      "Enter the value13\n",
      "Enter the value14\n",
      "14 is the max value\n"
     ]
    }
   ],
   "source": [
    "def maxof3(a, b, c):\n",
    "    max = a\n",
    "    if b > max:\n",
    "        max = b\n",
    "    if c > max:\n",
    "        max = c\n",
    "    return max\n",
    "\n",
    "a = int(input(\"Enter the value\"))\n",
    "b = int(input(\"Enter the value\"))\n",
    "c = int(input(\"Enter the value\"))\n",
    "max = maxof3(a,b,c)\n",
    "print(max,\"is the max value\")\n"
   ]
  },
  {
   "cell_type": "code",
   "execution_count": 31,
   "id": "235588e1",
   "metadata": {},
   "outputs": [
    {
     "name": "stdout",
     "output_type": "stream",
     "text": [
      "Enter 1st number20\n",
      "Enter 2nd number10\n",
      "Enter 3rd number30\n",
      "Max number is, 30\n"
     ]
    }
   ],
   "source": [
    "def maxcheck(x,y,z):\n",
    "    if (x>y) and (x>z):\n",
    "        print(f\"The Max number is,{x}\")\n",
    "    elif (y>=x) and (y>=z):\n",
    "        print(f\"The Max number is,{y}\")\n",
    "    else:\n",
    "        print(f\"Max number is, {z}\")\n",
    "   \n",
    "x= int(input(\"Enter 1st number\"))\n",
    "y= int(input(\"Enter 2nd number\"))\n",
    "z= int(input(\"Enter 3rd number\"))\n",
    "maxcheck(x,y,z)\n"
   ]
  },
  {
   "cell_type": "code",
   "execution_count": 35,
   "id": "4dc25589",
   "metadata": {},
   "outputs": [],
   "source": [
    "# Problem 2: WAP to reverse the string \n",
    "# Sample : \"Shyam123\"\n",
    "# Output: \"321mayhS\""
   ]
  },
  {
   "cell_type": "code",
   "execution_count": 38,
   "id": "c016b656",
   "metadata": {},
   "outputs": [
    {
     "data": {
      "text/plain": [
       "' 321mayhS'"
      ]
     },
     "execution_count": 38,
     "metadata": {},
     "output_type": "execute_result"
    }
   ],
   "source": [
    "def reverse(str1):\n",
    "    str2=\" \"\n",
    "    index=len(str1)\n",
    "    while index>0:\n",
    "        str2+=str1[index-1] # Str2=Str2+Str1[index-1]\n",
    "        index=index-1\n",
    "    return str2\n",
    "\n",
    "reverse(\"Shyam123\")"
   ]
  },
  {
   "cell_type": "code",
   "execution_count": 46,
   "id": "7bb9e246",
   "metadata": {},
   "outputs": [
    {
     "data": {
      "text/plain": [
       "'321mayhs'"
      ]
     },
     "execution_count": 46,
     "metadata": {},
     "output_type": "execute_result"
    }
   ],
   "source": [
    "def reversed_string(text):\n",
    "    result = \"\"\n",
    "    for char in text:\n",
    "           result = char + result\n",
    "    return result\n",
    "\n",
    "\n",
    "reversed_string(\"shyam123\")\n"
   ]
  },
  {
   "cell_type": "code",
   "execution_count": 47,
   "id": "f606ef46",
   "metadata": {},
   "outputs": [
    {
     "name": "stdout",
     "output_type": "stream",
     "text": [
      "Enter the StringShyam123\n",
      "321mayhS\n"
     ]
    }
   ],
   "source": [
    "def reverse_string(s):\n",
    "    return s[::-1]\n",
    "s = input(\"Enter the String\")\n",
    "reversed_s = reverse_string(s)\n",
    "print(reversed_s)\n"
   ]
  },
  {
   "cell_type": "code",
   "execution_count": 48,
   "id": "3d2b2e29",
   "metadata": {},
   "outputs": [],
   "source": [
    "# Lambda Function"
   ]
  },
  {
   "cell_type": "code",
   "execution_count": 4,
   "id": "530cbc69",
   "metadata": {},
   "outputs": [
    {
     "name": "stdout",
     "output_type": "stream",
     "text": [
      "30\n",
      "6\n"
     ]
    }
   ],
   "source": [
    "def func(a,b):\n",
    "    return lambda a,b:a+b\n",
    "S=func(20,10)\n",
    "print(S(10,20))\n",
    "\n",
    "func=lambda a,b:a+b\n",
    "func(12,13)\n",
    "\n",
    "\n",
    "def func(c,d):\n",
    "    return lambda c,d:c*d\n",
    "\n",
    "mul=func(3,2)\n",
    "print(mul(3,2))\n",
    "\n"
   ]
  },
  {
   "cell_type": "code",
   "execution_count": 2,
   "id": "c137c3dc",
   "metadata": {},
   "outputs": [],
   "source": [
    "# WAP to create a function , 1 argument,that argument will multiply with given number  using a lmbda"
   ]
  },
  {
   "cell_type": "code",
   "execution_count": 52,
   "id": "f7fae07c",
   "metadata": {},
   "outputs": [],
   "source": [
    "def Func(num):\n",
    "    return lambda var1: var1*num\n",
    "res=Func(5)\n"
   ]
  },
  {
   "cell_type": "code",
   "execution_count": 53,
   "id": "5feaa007",
   "metadata": {},
   "outputs": [
    {
     "name": "stdout",
     "output_type": "stream",
     "text": [
      "50\n"
     ]
    }
   ],
   "source": [
    "print(res(10))"
   ]
  },
  {
   "cell_type": "code",
   "execution_count": 55,
   "id": "5c058098",
   "metadata": {},
   "outputs": [],
   "source": [
    "# Write a program to sort a list of dictionaries using lambda \n",
    "# List of Dictionaries"
   ]
  },
  {
   "cell_type": "code",
   "execution_count": null,
   "id": "c4ac6bde",
   "metadata": {},
   "outputs": [],
   "source": []
  }
 ],
 "metadata": {
  "kernelspec": {
   "display_name": "Python 3 (ipykernel)",
   "language": "python",
   "name": "python3"
  },
  "language_info": {
   "codemirror_mode": {
    "name": "ipython",
    "version": 3
   },
   "file_extension": ".py",
   "mimetype": "text/x-python",
   "name": "python",
   "nbconvert_exporter": "python",
   "pygments_lexer": "ipython3",
   "version": "3.9.13"
  }
 },
 "nbformat": 4,
 "nbformat_minor": 5
}
