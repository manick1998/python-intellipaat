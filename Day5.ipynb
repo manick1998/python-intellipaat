{
 "cells": [
  {
   "cell_type": "code",
   "execution_count": 1,
   "id": "22183b05",
   "metadata": {},
   "outputs": [],
   "source": [
    "# Loop"
   ]
  },
  {
   "cell_type": "code",
   "execution_count": 7,
   "id": "ad5c7622",
   "metadata": {},
   "outputs": [
    {
     "name": "stdout",
     "output_type": "stream",
     "text": [
      "[1, 2, 3, 4, 5, 6, 7, 8]\n",
      "1 2 3 4 5 6 7 8 "
     ]
    }
   ],
   "source": [
    "lst=[1,2,3,4,5,6,7,8]\n",
    "# lst1=int(input(\"Enter the value\"))\n",
    "print(lst)\n",
    "for i in lst:\n",
    "    print(i,end=\" \")"
   ]
  },
  {
   "cell_type": "code",
   "execution_count": 15,
   "id": "3c93f7b5",
   "metadata": {},
   "outputs": [
    {
     "name": "stdout",
     "output_type": "stream",
     "text": [
      "John Maria Roy Zia "
     ]
    }
   ],
   "source": [
    "x=[\"John\",\"Maria\",\"Roy\",\"Zia\"]\n",
    "for i in x:\n",
    "    print(i, end= \" \")"
   ]
  },
  {
   "cell_type": "code",
   "execution_count": 11,
   "id": "b645b08e",
   "metadata": {},
   "outputs": [
    {
     "name": "stdout",
     "output_type": "stream",
     "text": [
      "John\n",
      "Maria\n",
      "Roy\n",
      "Zia\n"
     ]
    }
   ],
   "source": [
    "x=[\"John\",\"Maria\",\"Roy\",\"Zia\"]\n",
    "for i in x:\n",
    "    print(i)"
   ]
  },
  {
   "cell_type": "code",
   "execution_count": 18,
   "id": "805e02ff",
   "metadata": {},
   "outputs": [
    {
     "name": "stdout",
     "output_type": "stream",
     "text": [
      "[10, 20, 30, 40, 50]\n",
      "[10, 20, 30, 40, 50]\n",
      "[10, 20, 30, 40, 50]\n",
      "[10, 20, 30, 40, 50]\n",
      "[10, 20, 30, 40, 50]\n",
      "['John', 'Maria', 'Roy', 'Zia', 'Vivek']\n",
      "['John', 'Maria', 'Roy', 'Zia', 'Vivek']\n",
      "['John', 'Maria', 'Roy', 'Zia', 'Vivek']\n",
      "['John', 'Maria', 'Roy', 'Zia', 'Vivek']\n",
      "['John', 'Maria', 'Roy', 'Zia', 'Vivek']\n"
     ]
    }
   ],
   "source": [
    "x=[\"John\",\"Maria\",\"Roy\",\"Zia\",\"Vivek\"]\n",
    "x1=[10,20,30,40,50]\n",
    "for i in x1:\n",
    "    print(x1)\n",
    "for i in x:\n",
    "    print(x)"
   ]
  },
  {
   "cell_type": "code",
   "execution_count": 20,
   "id": "38f0906d",
   "metadata": {},
   "outputs": [
    {
     "name": "stdout",
     "output_type": "stream",
     "text": [
      "1 2 3 4 5 6 7 8 9 10 "
     ]
    }
   ],
   "source": [
    "# Wap to print 1 -10\n",
    "for i in range(1,11):\n",
    "    print(i,end=\" \")"
   ]
  },
  {
   "cell_type": "code",
   "execution_count": 27,
   "id": "52fc3492",
   "metadata": {},
   "outputs": [
    {
     "name": "stdout",
     "output_type": "stream",
     "text": [
      "Enter the value:9\n",
      "2\n",
      "3\n",
      "4\n",
      "5\n",
      "6\n",
      "7\n",
      "8\n",
      "9\n",
      "10\n"
     ]
    }
   ],
   "source": [
    "# Wap to print 1-n\n",
    "n=int(input(\"Enter the value:\"))\n",
    "for i in range(n):\n",
    "    print(i+2)"
   ]
  },
  {
   "cell_type": "code",
   "execution_count": 28,
   "id": "be85cd84",
   "metadata": {},
   "outputs": [],
   "source": [
    "# Even number "
   ]
  },
  {
   "cell_type": "code",
   "execution_count": 32,
   "id": "8e9a1721",
   "metadata": {},
   "outputs": [
    {
     "name": "stdout",
     "output_type": "stream",
     "text": [
      "Enter the number:10\n",
      "Even= 2\n",
      "Even= 4\n",
      "Even= 6\n",
      "Even= 8\n"
     ]
    }
   ],
   "source": [
    "\n",
    "n=int(input(\"Enter the number:\"))\n",
    "for i in range(2,n,2):\n",
    "    print(\"Even=\",i)"
   ]
  },
  {
   "cell_type": "code",
   "execution_count": 33,
   "id": "4879852a",
   "metadata": {},
   "outputs": [
    {
     "name": "stdout",
     "output_type": "stream",
     "text": [
      "Even= 2\n"
     ]
    }
   ],
   "source": [
    "#n=int(input(\"Enter the number:\"))\n",
    "for i in range(2,4,2):\n",
    "    print(\"Even=\",i)"
   ]
  },
  {
   "cell_type": "code",
   "execution_count": 38,
   "id": "3a62f116",
   "metadata": {},
   "outputs": [
    {
     "name": "stdout",
     "output_type": "stream",
     "text": [
      "Enter the number:6\n",
      "ODD= 1\n",
      "ODD= 3\n",
      "ODD= 5\n"
     ]
    }
   ],
   "source": [
    "n=int(input(\"Enter the number:\"))\n",
    "for i in range(1,n,2):\n",
    "    print(\"ODD=\",i)"
   ]
  },
  {
   "cell_type": "code",
   "execution_count": 52,
   "id": "d7f6b5fe",
   "metadata": {},
   "outputs": [
    {
     "name": "stdout",
     "output_type": "stream",
     "text": [
      "Enter the number:7\n",
      "ODD\n"
     ]
    }
   ],
   "source": [
    "n=int(input(\"Enter the number:\"))\n",
    "for i in range(n,n+1):\n",
    "    if n%2==0:\n",
    "        print(\"EVEN\")\n",
    "    else:\n",
    "        print(\"ODD\")"
   ]
  },
  {
   "cell_type": "code",
   "execution_count": 53,
   "id": "a6555410",
   "metadata": {},
   "outputs": [],
   "source": [
    "# While"
   ]
  },
  {
   "cell_type": "code",
   "execution_count": 61,
   "id": "7735e52a",
   "metadata": {},
   "outputs": [
    {
     "name": "stdout",
     "output_type": "stream",
     "text": [
      "6 5 4 3 2 1 "
     ]
    }
   ],
   "source": [
    "A=[1,2,3,4,5,6]\n",
    "i=len(A)-1 # Length of particular variable -len\n",
    "while i>=0:\n",
    "    print(A[i],end=\" \")\n",
    "    i=i-1"
   ]
  },
  {
   "cell_type": "code",
   "execution_count": 62,
   "id": "fb90ff30",
   "metadata": {},
   "outputs": [
    {
     "name": "stdout",
     "output_type": "stream",
     "text": [
      "1 2 3 4 5 6 "
     ]
    }
   ],
   "source": [
    "A=[1,2,3,4,5,6]\n",
    "i=1 # Length of particular variable -len\n",
    "while i<=len(A):\n",
    "    print(i,end=\" \")\n",
    "    i=i+1"
   ]
  },
  {
   "cell_type": "code",
   "execution_count": 1,
   "id": "57668371",
   "metadata": {},
   "outputs": [
    {
     "name": "stdout",
     "output_type": "stream",
     "text": [
      "Enter the Value:10\n",
      "1 2 3 4 5 6 7 8 9 10 "
     ]
    }
   ],
   "source": [
    "# Print 1 to n\n",
    "n= int(input(\"Enter the Value:\"))\n",
    "i=1\n",
    "while i <= n:\n",
    "    print(i,end=\" \")\n",
    "    i+=1"
   ]
  },
  {
   "cell_type": "code",
   "execution_count": 2,
   "id": "b2e07e6a",
   "metadata": {},
   "outputs": [
    {
     "name": "stdout",
     "output_type": "stream",
     "text": [
      "Enter the number:3\n",
      "3 * 1 = 3\n",
      "3 * 2 = 6\n",
      "3 * 3 = 9\n",
      "3 * 4 = 12\n",
      "3 * 5 = 15\n",
      "3 * 6 = 18\n",
      "3 * 7 = 21\n",
      "3 * 8 = 24\n",
      "3 * 9 = 27\n",
      "3 * 10 = 30\n"
     ]
    }
   ],
   "source": [
    "# WAP to create a multiplication table\n",
    "n=int(input(\"Enter the number:\"))\n",
    "for i in range(1,11):\n",
    "    print(n,'*',i,\"=\",n*i)"
   ]
  },
  {
   "cell_type": "code",
   "execution_count": 3,
   "id": "618360f4",
   "metadata": {},
   "outputs": [
    {
     "name": "stdout",
     "output_type": "stream",
     "text": [
      "enter a range:4\n",
      "4 * 1  =  4\n",
      "4 * 2  =  8\n",
      "4 * 3  =  12\n",
      "4 * 4  =  16\n",
      "4 * 5  =  20\n",
      "4 * 6  =  24\n",
      "4 * 7  =  28\n",
      "4 * 8  =  32\n",
      "4 * 9  =  36\n",
      "4 * 10  =  40\n"
     ]
    }
   ],
   "source": [
    "x=int(input(\"enter a range:\"))\n",
    "i=1\n",
    "while i<11:\n",
    "    print(x,\"*\",i,\" = \",x*i)\n",
    "    i=i+1\n"
   ]
  },
  {
   "cell_type": "code",
   "execution_count": 15,
   "id": "669cb1e3",
   "metadata": {},
   "outputs": [
    {
     "name": "stdout",
     "output_type": "stream",
     "text": [
      "1\n",
      "2\n",
      "3\n",
      "4\n"
     ]
    }
   ],
   "source": [
    "A=[1,2,3,4,5,6,7,8,9,10]\n",
    "for i in A:\n",
    "    #print(i)\n",
    "    if i >=5:\n",
    "        break\n",
    "        #print(i)\n",
    "    print(i)"
   ]
  },
  {
   "cell_type": "code",
   "execution_count": 6,
   "id": "d705f618",
   "metadata": {},
   "outputs": [
    {
     "name": "stdout",
     "output_type": "stream",
     "text": [
      "1\n",
      "2\n",
      "3\n",
      "4\n",
      "6\n",
      "7\n",
      "8\n",
      "9\n",
      "10\n"
     ]
    }
   ],
   "source": [
    "A=[1,2,3,4,5,6,7,8,9,10]\n",
    "for i in A:    \n",
    "    if i == 5:\n",
    "        continue\n",
    "    print(i)"
   ]
  },
  {
   "cell_type": "code",
   "execution_count": 8,
   "id": "2589f849",
   "metadata": {},
   "outputs": [
    {
     "name": "stdout",
     "output_type": "stream",
     "text": [
      "1\n",
      "2\n",
      "3\n",
      "4\n"
     ]
    }
   ],
   "source": [
    "A=[1,2,3,4,5,6,7,8,9,10]\n",
    "for i in A: \n",
    "    #print(i)\n",
    "    if i >= 5:\n",
    "        continue\n",
    "    print(i)"
   ]
  },
  {
   "cell_type": "code",
   "execution_count": 10,
   "id": "438f2849",
   "metadata": {},
   "outputs": [
    {
     "name": "stdout",
     "output_type": "stream",
     "text": [
      "1\n",
      "2\n",
      "3\n",
      "4\n",
      "5\n",
      "6\n",
      "7\n",
      "8\n",
      "9\n",
      "10\n"
     ]
    }
   ],
   "source": [
    "A=[1,2,3,4,5,6,7,8,9,10]\n",
    "for i in A: \n",
    "    #print(i)\n",
    "    if i >= 5:\n",
    "        pass\n",
    "    print(i)"
   ]
  },
  {
   "cell_type": "code",
   "execution_count": 14,
   "id": "db45c569",
   "metadata": {},
   "outputs": [],
   "source": [
    "A=[1,2,3,4,5,6,7,8,9,10]\n",
    "for i in A:\n",
    "    pass"
   ]
  },
  {
   "cell_type": "code",
   "execution_count": 16,
   "id": "9f763de1",
   "metadata": {},
   "outputs": [],
   "source": [
    "# Nested Loop ( 1 loop - row , 1 loop - col)\n",
    "# *\n",
    "# * *\n",
    "# * * *\n",
    "# * * * *\n",
    "# * * * * *\n",
    "# print this "
   ]
  },
  {
   "cell_type": "code",
   "execution_count": 23,
   "id": "59f7d2fd",
   "metadata": {},
   "outputs": [
    {
     "name": "stdout",
     "output_type": "stream",
     "text": [
      "Enter the rows:5\n",
      "*  \n",
      "\n",
      "*  *  \n",
      "\n",
      "*  *  *  \n",
      "\n",
      "*  *  *  *  \n",
      "\n",
      "*  *  *  *  *  \n",
      "\n"
     ]
    }
   ],
   "source": [
    "rows = int(input(\"Enter the rows:\"))\n",
    "for i in range(rows):\n",
    "    for j in range(i+1):\n",
    "        print(\"* \",end=\" \")\n",
    "    print(\"\\n\")\n",
    "    "
   ]
  },
  {
   "cell_type": "code",
   "execution_count": 22,
   "id": "579bb1fa",
   "metadata": {},
   "outputs": [
    {
     "name": "stdout",
     "output_type": "stream",
     "text": [
      "* \n",
      "\n",
      "* * \n",
      "\n",
      "* * * \n",
      "\n",
      "* * * * \n",
      "\n",
      "* * * * * \n",
      "\n"
     ]
    }
   ],
   "source": [
    "for i in range(1,6,1):\n",
    "    for j in range(1,6):\n",
    "        if j<=i:\n",
    "            print(\"*\",end=\" \")\n",
    "    print(\"\\n\")\n"
   ]
  },
  {
   "cell_type": "code",
   "execution_count": 24,
   "id": "04b8c73c",
   "metadata": {},
   "outputs": [],
   "source": [
    "# Print it \n",
    "#         * \n",
    "#      *     *\n",
    "#   *     *      * \n",
    "# *   *      *       *"
   ]
  },
  {
   "cell_type": "code",
   "execution_count": 46,
   "id": "86f605e8",
   "metadata": {},
   "outputs": [
    {
     "name": "stdout",
     "output_type": "stream",
     "text": [
      "Enter the rows: 5\n",
      "        *   \n",
      "\n",
      "      *   *   \n",
      "\n",
      "    *   *   *   \n",
      "\n",
      "  *   *   *   *   \n",
      "\n",
      "*   *   *   *   *   \n",
      "\n"
     ]
    }
   ],
   "source": [
    "rows=int(input(\"Enter the rows: \"))\n",
    "n= rows-1\n",
    "for i in range(rows):\n",
    "    for j in range(n):\n",
    "        print(end=\"  \")\n",
    "    n=n-1\n",
    "    for k in range(i+1):\n",
    "        print(\"* \",end=\"  \")\n",
    "    print(\"\\n\")\n",
    "    "
   ]
  },
  {
   "cell_type": "code",
   "execution_count": 47,
   "id": "2bfd3de9",
   "metadata": {},
   "outputs": [],
   "source": [
    "#  1\n",
    "# 1 2 \n",
    "# 1 2 3 \n"
   ]
  },
  {
   "cell_type": "code",
   "execution_count": 48,
   "id": "f917492b",
   "metadata": {},
   "outputs": [],
   "source": [
    "# WAP to find the number is pallindrom or not (Ex - MADAM , EX - 121 )"
   ]
  },
  {
   "cell_type": "code",
   "execution_count": 49,
   "id": "41d84116",
   "metadata": {},
   "outputs": [],
   "source": [
    "# # WAP to find the factor of particular number "
   ]
  },
  {
   "cell_type": "code",
   "execution_count": 2,
   "id": "8aa9a968",
   "metadata": {},
   "outputs": [
    {
     "name": "stdout",
     "output_type": "stream",
     "text": [
      "Enter a number: 100\n",
      "Factors of 100 are: [1, 2, 4, 5, 10, 20, 25, 50, 100]\n"
     ]
    }
   ],
   "source": [
    "num = int(input(\"Enter a number: \"))\n",
    "\n",
    "# Find factors of the number\n",
    "factors = []\n",
    "for i in range(1, num+1):\n",
    "    if num % i == 0:\n",
    "        factors.append(i)\n",
    "\n",
    "# Print factors\n",
    "print(\"Factors of\", num, \"are:\", factors)\n"
   ]
  }
 ],
 "metadata": {
  "kernelspec": {
   "display_name": "Python 3 (ipykernel)",
   "language": "python",
   "name": "python3"
  },
  "language_info": {
   "codemirror_mode": {
    "name": "ipython",
    "version": 3
   },
   "file_extension": ".py",
   "mimetype": "text/x-python",
   "name": "python",
   "nbconvert_exporter": "python",
   "pygments_lexer": "ipython3",
   "version": "3.9.13"
  }
 },
 "nbformat": 4,
 "nbformat_minor": 5
}
