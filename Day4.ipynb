{
 "cells": [
  {
   "cell_type": "code",
   "execution_count": 1,
   "id": "f1705488",
   "metadata": {},
   "outputs": [],
   "source": [
    "# Slicing "
   ]
  },
  {
   "cell_type": "code",
   "execution_count": 2,
   "id": "93f70dd1",
   "metadata": {},
   "outputs": [
    {
     "name": "stdout",
     "output_type": "stream",
     "text": [
      "Python pr\n"
     ]
    }
   ],
   "source": [
    "String=\" Python programming \"\n",
    "print(String[1:10])"
   ]
  },
  {
   "cell_type": "code",
   "execution_count": 3,
   "id": "97a3bf5d",
   "metadata": {},
   "outputs": [
    {
     "name": "stdout",
     "output_type": "stream",
     "text": [
      " Python prog\n"
     ]
    }
   ],
   "source": [
    "print(String[:12])"
   ]
  },
  {
   "cell_type": "code",
   "execution_count": 4,
   "id": "496e42bf",
   "metadata": {},
   "outputs": [
    {
     "name": "stdout",
     "output_type": "stream",
     "text": [
      "hon programming \n"
     ]
    }
   ],
   "source": [
    "print(String[4:])"
   ]
  },
  {
   "cell_type": "code",
   "execution_count": 5,
   "id": "845932aa",
   "metadata": {},
   "outputs": [
    {
     "name": "stdout",
     "output_type": "stream",
     "text": [
      " Python programming \n"
     ]
    }
   ],
   "source": [
    "print(String[:])"
   ]
  },
  {
   "cell_type": "code",
   "execution_count": 6,
   "id": "cd35eb4d",
   "metadata": {},
   "outputs": [
    {
     "name": "stdout",
     "output_type": "stream",
     "text": [
      "yhnpor\n"
     ]
    }
   ],
   "source": [
    "String=\"Python programming\"\n",
    "print(String[1:12:2])  "
   ]
  },
  {
   "cell_type": "code",
   "execution_count": 7,
   "id": "0fc57a08",
   "metadata": {},
   "outputs": [
    {
     "name": "stdout",
     "output_type": "stream",
     "text": [
      "yno\n"
     ]
    }
   ],
   "source": [
    "String=\"Python programming\"\n",
    "print(String[1:12:4])"
   ]
  },
  {
   "cell_type": "code",
   "execution_count": 8,
   "id": "d6d06333",
   "metadata": {},
   "outputs": [
    {
     "name": "stdout",
     "output_type": "stream",
     "text": [
      "Por\n"
     ]
    }
   ],
   "source": [
    "print(String[:12:4])"
   ]
  },
  {
   "cell_type": "code",
   "execution_count": 9,
   "id": "94c902d5",
   "metadata": {},
   "outputs": [
    {
     "name": "stdout",
     "output_type": "stream",
     "text": [
      "ynomg\n"
     ]
    }
   ],
   "source": [
    "print(String[1::4])"
   ]
  },
  {
   "cell_type": "code",
   "execution_count": 10,
   "id": "55402df3",
   "metadata": {},
   "outputs": [
    {
     "name": "stdout",
     "output_type": "stream",
     "text": [
      "ython progr\n"
     ]
    }
   ],
   "source": [
    "print(String[1:12:])"
   ]
  },
  {
   "cell_type": "code",
   "execution_count": 11,
   "id": "a3138fa0",
   "metadata": {},
   "outputs": [
    {
     "name": "stdout",
     "output_type": "stream",
     "text": [
      "Python programming\n"
     ]
    }
   ],
   "source": [
    "print(String[::])"
   ]
  },
  {
   "cell_type": "code",
   "execution_count": 12,
   "id": "4eb106a7",
   "metadata": {},
   "outputs": [
    {
     "name": "stdout",
     "output_type": "stream",
     "text": [
      "[30, 40, 50, 60, 70]\n"
     ]
    }
   ],
   "source": [
    "lst=[10,20,30,40,50,60,70]\n",
    "print(lst[2:10])"
   ]
  },
  {
   "cell_type": "code",
   "execution_count": 13,
   "id": "753a87e2",
   "metadata": {},
   "outputs": [
    {
     "name": "stdout",
     "output_type": "stream",
     "text": [
      "[30]\n"
     ]
    }
   ],
   "source": [
    "print(lst[2:3:2])"
   ]
  },
  {
   "cell_type": "code",
   "execution_count": 14,
   "id": "02655a16",
   "metadata": {},
   "outputs": [
    {
     "name": "stdout",
     "output_type": "stream",
     "text": [
      "[70, 60, 50, 40, 30, 20, 10]\n"
     ]
    }
   ],
   "source": [
    "print(lst[::-1])"
   ]
  },
  {
   "cell_type": "code",
   "execution_count": 15,
   "id": "98ce1cbf",
   "metadata": {},
   "outputs": [
    {
     "name": "stdout",
     "output_type": "stream",
     "text": [
      "[70, 50, 30, 10]\n"
     ]
    }
   ],
   "source": [
    "print(lst[::-2])"
   ]
  },
  {
   "cell_type": "code",
   "execution_count": 16,
   "id": "77823a91",
   "metadata": {},
   "outputs": [
    {
     "name": "stdout",
     "output_type": "stream",
     "text": [
      "[50]\n"
     ]
    }
   ],
   "source": [
    "print(lst[4:1:-3])"
   ]
  },
  {
   "cell_type": "code",
   "execution_count": 17,
   "id": "2cdb88a9",
   "metadata": {},
   "outputs": [
    {
     "name": "stdout",
     "output_type": "stream",
     "text": [
      "[30]\n"
     ]
    }
   ],
   "source": [
    "print(lst[2:4:2])"
   ]
  },
  {
   "cell_type": "code",
   "execution_count": 18,
   "id": "9ce73330",
   "metadata": {},
   "outputs": [
    {
     "name": "stdout",
     "output_type": "stream",
     "text": [
      "[10, 20, 30, 40, 50, 60, 70]\n"
     ]
    }
   ],
   "source": [
    "print(lst[::])"
   ]
  },
  {
   "cell_type": "code",
   "execution_count": 19,
   "id": "c34b084f",
   "metadata": {},
   "outputs": [
    {
     "name": "stdout",
     "output_type": "stream",
     "text": [
      "[70, 60, 50, 40, 30, 20, 10]\n"
     ]
    }
   ],
   "source": [
    "print(lst[::-1])"
   ]
  },
  {
   "cell_type": "markdown",
   "id": "f8fa4052",
   "metadata": {},
   "source": [
    "# Conditional Statement"
   ]
  },
  {
   "cell_type": "code",
   "execution_count": 20,
   "id": "83af9831",
   "metadata": {},
   "outputs": [],
   "source": [
    "# IF"
   ]
  },
  {
   "cell_type": "code",
   "execution_count": null,
   "id": "58809aff",
   "metadata": {},
   "outputs": [],
   "source": [
    "num=int(input(\"Enter the value:\"))\n",
    "if num>10:\n",
    "    print(\"num=\",num)\n",
    "\n",
    "print(\"End of if\")"
   ]
  },
  {
   "cell_type": "code",
   "execution_count": 23,
   "id": "d372f030",
   "metadata": {},
   "outputs": [],
   "source": [
    "# Nested If"
   ]
  },
  {
   "cell_type": "code",
   "execution_count": 24,
   "id": "4561be6d",
   "metadata": {},
   "outputs": [
    {
     "name": "stdout",
     "output_type": "stream",
     "text": [
      "Enter the value:14\n",
      "n= 14\n",
      "End\n"
     ]
    }
   ],
   "source": [
    "n=int(input(\"Enter the value:\"))\n",
    "if n > 10:\n",
    "    if n==15:\n",
    "        print(\"n=\",n)\n",
    "    print(\"n=\",n)\n",
    "\n",
    "print(\"End\")"
   ]
  },
  {
   "cell_type": "code",
   "execution_count": 25,
   "id": "8f207863",
   "metadata": {},
   "outputs": [],
   "source": [
    "# If _ else Statement"
   ]
  },
  {
   "cell_type": "code",
   "execution_count": 26,
   "id": "0c56f155",
   "metadata": {},
   "outputs": [],
   "source": [
    "# if condition :\n",
    "#  body of if\n",
    "# else:"
   ]
  },
  {
   "cell_type": "code",
   "execution_count": 28,
   "id": "d5cedeb3",
   "metadata": {},
   "outputs": [
    {
     "name": "stdout",
     "output_type": "stream",
     "text": [
      "Enter the value:2\n",
      "Number= 2\n"
     ]
    }
   ],
   "source": [
    "num=int(input(\"Enter the value:\"))\n",
    "if num>10:\n",
    "    print(\"Number=\",num)\n",
    "else:\n",
    "    print(\"Number=\",num)"
   ]
  },
  {
   "cell_type": "code",
   "execution_count": 29,
   "id": "3958e139",
   "metadata": {},
   "outputs": [],
   "source": [
    "# WAP to find a number is Even or ODD"
   ]
  },
  {
   "cell_type": "code",
   "execution_count": 35,
   "id": "9ce06279",
   "metadata": {},
   "outputs": [
    {
     "name": "stdout",
     "output_type": "stream",
     "text": [
      "Enter the values:12\n",
      "EVEN 12\n"
     ]
    }
   ],
   "source": [
    "n=int(input(\"Enter the values:\"))\n",
    "if n%2==0:\n",
    "    print(\"EVEN\",n)\n",
    "else:\n",
    "    print(\"ODD\",n)\n",
    "    "
   ]
  },
  {
   "cell_type": "code",
   "execution_count": 36,
   "id": "07bc9258",
   "metadata": {},
   "outputs": [],
   "source": [
    "# WAP to find a number is positive or negative \n",
    "# 0,1,2,.... = Positive \n",
    "# -1,-2...... = Negative \n"
   ]
  },
  {
   "cell_type": "code",
   "execution_count": 39,
   "id": "a6a47a55",
   "metadata": {},
   "outputs": [
    {
     "name": "stdout",
     "output_type": "stream",
     "text": [
      "Enter the value:-1\n",
      "Negative: -1\n"
     ]
    }
   ],
   "source": [
    "n= int(input(\"Enter the value:\"))\n",
    "if n < 0:\n",
    "    print(\"Negative:\",n)\n",
    "else:\n",
    "    print(\"Positive:\",n)"
   ]
  },
  {
   "cell_type": "code",
   "execution_count": 38,
   "id": "eb7762f1",
   "metadata": {},
   "outputs": [
    {
     "name": "stdout",
     "output_type": "stream",
     "text": [
      "Enter the value:0\n",
      "Positive: 0\n"
     ]
    }
   ],
   "source": [
    "n= int(input(\"Enter the value:\"))\n",
    "if n >= 0:\n",
    "    print(\"Positive:\",n)\n",
    "else:\n",
    "    print(\"Negative:\",n)"
   ]
  },
  {
   "cell_type": "code",
   "execution_count": 40,
   "id": "19b8404a",
   "metadata": {},
   "outputs": [],
   "source": [
    "# elif"
   ]
  },
  {
   "cell_type": "code",
   "execution_count": 41,
   "id": "3b989c23",
   "metadata": {},
   "outputs": [
    {
     "name": "stdout",
     "output_type": "stream",
     "text": [
      "Enter the value:0\n",
      "Zero 0\n"
     ]
    }
   ],
   "source": [
    "n= int(input(\"Enter the value:\"))\n",
    "if n > 0:\n",
    "    print(\"Positive:\",n)\n",
    "elif n==0:\n",
    "    print(\"Zero: \",n)\n",
    "else:\n",
    "    print(\"Negative:\",n)"
   ]
  },
  {
   "cell_type": "code",
   "execution_count": 51,
   "id": "a34f49e9",
   "metadata": {},
   "outputs": [
    {
     "name": "stdout",
     "output_type": "stream",
     "text": [
      "Enter the value:11\n",
      "Enter the value:15\n",
      "Default Value \n"
     ]
    }
   ],
   "source": [
    "a= int(input(\"Enter the value:\"))\n",
    "b= float(input(\"Enter the value:\"))\n",
    "if a==b :\n",
    "    print(\"Equal\")\n",
    "elif a>b:\n",
    "    print(\"A is Greater\")\n",
    "elif a<b:\n",
    "    print(\"B is Greater\")\n",
    "else:\n",
    "    print(\"Default Value \")"
   ]
  },
  {
   "cell_type": "code",
   "execution_count": 52,
   "id": "d6534931",
   "metadata": {},
   "outputs": [],
   "source": [
    "# WAP tp find the \n",
    "# Marks : out of 100\n",
    "# Marks :60\n",
    "# more than 81 and less than 100 - A+\n",
    "# more than 60 and less than 80 - A\n",
    "# more than 50 and less than 59 - B\n",
    "# more than 40 and less than 49 - C\n",
    "# more than 30 and less than 39 - D\n",
    "# less than 29 - Fail \n",
    "# Default "
   ]
  },
  {
   "cell_type": "code",
   "execution_count": 18,
   "id": "6028b125",
   "metadata": {},
   "outputs": [
    {
     "name": "stdout",
     "output_type": "stream",
     "text": [
      "Enter the value out of 100:21\n",
      "Default\n"
     ]
    }
   ],
   "source": [
    "Marks=int(input(\"Enter the value out of 100:\"))\n",
    "if Marks >=81 and Marks<=100:\n",
    "    print('A+')\n",
    "elif Marks >=60 and Marks<=80:\n",
    "    print(\"A\")\n",
    "elif Marks >=50 and Marks<=59:\n",
    "    print(\"B\")\n",
    "elif Marks >=40 and Marks<=49:\n",
    "    print(\"C\")\n",
    "elif Marks >=30 and Marks<=39:\n",
    "    print(\"D\")\n",
    "elif Marks <=29 and Marks>=0:\n",
    "    print(\"F\")\n",
    "else:\n",
    "    print(\"Default\")"
   ]
  },
  {
   "cell_type": "code",
   "execution_count": 24,
   "id": "392456fe",
   "metadata": {},
   "outputs": [
    {
     "name": "stdout",
     "output_type": "stream",
     "text": [
      "Enter the value:45\n",
      "C:\n"
     ]
    }
   ],
   "source": [
    "n=int(input(\"Enter the value:\"))\n",
    "a=100\n",
    "a1=81\n",
    "a2=60\n",
    "b=50\n",
    "c=40\n",
    "d=30\n",
    "\n",
    "if a1<=n<=a:\n",
    "    print(\"A+:\")\n",
    "elif a2<=n<a1:\n",
    "    print(\"A:\")\n",
    "elif b<=n<a2:\n",
    "    print(\"B:\")\n",
    "elif c<=n<b:\n",
    "    print(\"C:\")\n",
    "elif d<=n<c:\n",
    "    print(\"D:\")\n",
    "elif d>n>=0:\n",
    "    print(\"F\")\n",
    "else:\n",
    "    print(\"Default\")\n"
   ]
  },
  {
   "cell_type": "code",
   "execution_count": 25,
   "id": "0cc76671",
   "metadata": {},
   "outputs": [],
   "source": [
    "# WAP to check a character a vowel or consonant.\n",
    "# str= a ()\n",
    "# output (vowel or consonant )\n",
    "# Vowel : a,e,i,o,u\n",
    "# Consonant : b,c,d,f,....\n",
    "# Default : Capital letters "
   ]
  },
  {
   "cell_type": "code",
   "execution_count": 31,
   "id": "ee72ef65",
   "metadata": {},
   "outputs": [
    {
     "name": "stdout",
     "output_type": "stream",
     "text": [
      "Enter the Character:B\n",
      "It is a Consonant B\n"
     ]
    }
   ],
   "source": [
    "Str= input(\"Enter the Character:\")\n",
    "if Str == 'a' or Str == 'A' or Str == 'e' or Str == 'E' or Str == 'I' or Str == 'i' or Str == 'o' or Str == 'u' or Str == 'U' :\n",
    "    print(\"It is a Vowel\",Str)\n",
    "else:\n",
    "    print(\"It is a Consonant\",Str)"
   ]
  },
  {
   "cell_type": "code",
   "execution_count": 37,
   "id": "f6a0d43e",
   "metadata": {},
   "outputs": [
    {
     "name": "stdout",
     "output_type": "stream",
     "text": [
      "Enter the Character:1\n",
      "It is a Consonant 1\n"
     ]
    }
   ],
   "source": [
    "Str= input(\"Enter the Character:\")\n",
    "if Str in ('a','A','e','E','I','i','o','O','U','u'):\n",
    "    print(\"It is a Vowel\",Str)\n",
    "else:\n",
    "    print(\"It is a Consonant\",Str)\n"
   ]
  },
  {
   "cell_type": "code",
   "execution_count": 36,
   "id": "1a1c43f7",
   "metadata": {},
   "outputs": [
    {
     "name": "stdout",
     "output_type": "stream",
     "text": [
      "Enter the string/character : a\n",
      "a is the vowel character\n"
     ]
    }
   ],
   "source": [
    "n=input('Enter the string/character : ')\n",
    "\n",
    "if len(n)>1:\n",
    "    print(\"please enter a single character\")\n",
    "else:\n",
    "    if n in ('a','e','i','o','u','A','E','I','O','U'):\n",
    "        print(n, 'is the vowel character')\n",
    "    else:\n",
    "        print(n,'is the consonent letter')\n"
   ]
  },
  {
   "cell_type": "code",
   "execution_count": null,
   "id": "7f78b9cc",
   "metadata": {},
   "outputs": [],
   "source": []
  }
 ],
 "metadata": {
  "kernelspec": {
   "display_name": "Python 3 (ipykernel)",
   "language": "python",
   "name": "python3"
  },
  "language_info": {
   "codemirror_mode": {
    "name": "ipython",
    "version": 3
   },
   "file_extension": ".py",
   "mimetype": "text/x-python",
   "name": "python",
   "nbconvert_exporter": "python",
   "pygments_lexer": "ipython3",
   "version": "3.9.13"
  }
 },
 "nbformat": 4,
 "nbformat_minor": 5
}
