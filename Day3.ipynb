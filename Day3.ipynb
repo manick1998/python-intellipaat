{
 "cells": [
  {
   "cell_type": "code",
   "execution_count": null,
   "id": "9423a63b",
   "metadata": {},
   "outputs": [],
   "source": [
    "# List "
   ]
  },
  {
   "cell_type": "code",
   "execution_count": null,
   "id": "33abfe2e",
   "metadata": {},
   "outputs": [],
   "source": [
    "L1=[10,20,30,40,50,60] # Initialization of list\n",
    "print(L1)\n",
    "print(type(L1))\n",
    "print(L1[2]) # All the values present in list\n",
    "L2=[\"John\",10,20.45]\n",
    "print(L2)\n",
    "print(len(L1)) # len keyword - To check length for particular list "
   ]
  },
  {
   "cell_type": "code",
   "execution_count": 9,
   "id": "e46cb556",
   "metadata": {},
   "outputs": [
    {
     "name": "stdout",
     "output_type": "stream",
     "text": [
      "Enter the value:3\n",
      "Enter the number:1\n",
      "Enter the number:2\n",
      "Enter the number:2\n",
      "[1, 2, 2]\n"
     ]
    }
   ],
   "source": [
    "# Runtime\n",
    "list1=[]\n",
    "n=int(input(\"Enter the value:\"))\n",
    "\n",
    "for i in range(n):\n",
    "    value=int(input('Enter the number:'))\n",
    "    list1.append(value)\n",
    "print(list1)"
   ]
  },
  {
   "cell_type": "code",
   "execution_count": 5,
   "id": "8dcffe90",
   "metadata": {},
   "outputs": [
    {
     "name": "stdout",
     "output_type": "stream",
     "text": [
      "[10, 20, 30, 40, 50, 60, 70, 80]\n",
      "<class 'list'>\n",
      "[90, 56, 10, 7, 1, 0, 66, 10, 4, 89, 74]\n",
      "[10, 20, 30, 40, 50, 60, 70, 80, 90]\n",
      "[10, 20, 30, 50, 60, 70, 80, 90]\n",
      "[74, 89, 4, 10, 66, 0, 1, 7, 10, 56, 90]\n",
      "[0, 1, 4, 7, 10, 10, 56, 66, 74, 89, 90]\n",
      "4\n",
      "[]\n",
      "[20]\n",
      "0\n",
      "[0, 1, 95, 4, 7, 10, 10, 56, 66, 74, 89, 90]\n",
      "[1, 2, 3, 4, 5]\n",
      "[0, 1, 95, 4, 7, 10, 10, 56, 66, 74, 89, 90, 1, 2, 3, 4, 5]\n",
      "[0, 1, 95, 4, 7, 10, 10, 56, 66, 74, 89, 90, 1, 2, 3, 4, 5]\n",
      "[1, 2, 3, 4, 5]\n",
      "[1, 2, 4, 5]\n",
      "[20]\n",
      "[0, 1, 95, 4, 7, 10, 10, 56, 66, 74, 89, 90, 1, 2, 3, 4, 5]\n",
      "[1, 2, 4, 5]\n",
      "[1, 2, 3, 4, 5]\n",
      "[1, 2, 4, 5]\n",
      "[1, 2, 3, 5]\n"
     ]
    }
   ],
   "source": [
    "#Methods in List \n",
    "list1=[10,20,30,40,50,60,70,80]\n",
    "list2=[90,56,10,7,1,0,66,10,4,89,74]\n",
    "print(list1)\n",
    "print(type(list1))\n",
    "print(list2)\n",
    "list1.append(90) # Append \n",
    "print(list1)\n",
    "list1.pop(3) # POP - removes from index\n",
    "print(list1)\n",
    "list2.reverse() # Reverse \n",
    "print(list2)\n",
    "list2.sort() # Sort\n",
    "print(list2)\n",
    "list2.sort(reverse=False)\n",
    "print(list1.index(60)) # Index \n",
    "list1.clear()\n",
    "print(list1)\n",
    "list1.insert(1,20)\n",
    "print(list1)\n",
    "print(list1.index(20))\n",
    "list2.insert(2,95)  # insert \n",
    "print(list2)\n",
    "list3=[1,2,3,4,5]\n",
    "print(list3)\n",
    "# Adding list3 at the end of list2\n",
    "list2.extend(list3)\n",
    "print(list2)\n",
    "print(list2.copy())\n",
    "list5=list3.copy()\n",
    "print(list5)\n",
    "list3.remove(3) # Remove (elements)\n",
    "print(list3)\n",
    "print(list1)\n",
    "print(list2)\n",
    "print(list3)\n",
    "print(list5)\n",
    "\n",
    "list5.remove(4)\n",
    "print(list3)\n",
    "print(list5)\n"
   ]
  },
  {
   "cell_type": "code",
   "execution_count": null,
   "id": "e4750f6e",
   "metadata": {},
   "outputs": [],
   "source": [
    "# Tuple"
   ]
  },
  {
   "cell_type": "code",
   "execution_count": 2,
   "id": "9de74268",
   "metadata": {},
   "outputs": [
    {
     "name": "stdout",
     "output_type": "stream",
     "text": [
      "(10, 20, 30, 40, 50, 60, 10, 10)\n",
      "<class 'tuple'>\n",
      "('john', 50.67, 60)\n",
      "3\n",
      "2\n",
      "(10, 20)\n"
     ]
    }
   ],
   "source": [
    "T1=(10,20,30,40,50,60,10,10)\n",
    "print(T1)\n",
    "print(type(T1))\n",
    "T2=(\"john\",50.67,60)\n",
    "print(T2)\n",
    "print(T1.count(10))\n",
    "print(T1.index(30))\n",
    "# print(T1.insert(3,20))\n",
    "Saraf= (10,20)\n",
    "print(Saraf)"
   ]
  },
  {
   "cell_type": "code",
   "execution_count": null,
   "id": "97dd494a",
   "metadata": {},
   "outputs": [],
   "source": [
    "# Set  - Duplicates not allowed "
   ]
  },
  {
   "cell_type": "code",
   "execution_count": 3,
   "id": "18ffc7c1",
   "metadata": {},
   "outputs": [
    {
     "name": "stdout",
     "output_type": "stream",
     "text": [
      "{'y', 'h', 't', 'P', 'n', 'o'}\n",
      "<class 'set'>\n",
      "{'I', 'y', 'h', 't', 'P', 'n', 'o'}\n",
      "{'I', 'y', 'h', 't', 'n', 'o'}\n",
      "{'y', 'h', 't', 'n', 'o'}\n",
      "{'S', 'N', 'A', 't', 'P', 'I'}\n",
      "{'y', 'S', 't', 'A', 'P', 'n', 'I', 'o', 'h', 'N'}\n",
      "{'t'}\n",
      "{'y', 'h', 'n', 'o'}\n",
      "{'S', 'P', 'A', 'I', 'N'}\n",
      "{50, 20, 40, 10, 30}\n",
      "{50, 70, 30, 10, 12, 60}\n",
      "{50, 20, 90, 40, 10, 30}\n",
      "{50, 20, 90, 40, 10}\n",
      "{20, 90, 40, 10}\n",
      "{70, 40, 10, 12, 50, 20, 90, 60, 30}\n",
      "{10}\n",
      "{20, 90, 40, 10}\n",
      "{50, 70, 30, 10, 12, 60}\n",
      "{40, 90, 20}\n",
      "{70, 12, 50, 60, 30}\n",
      "set()\n"
     ]
    }
   ],
   "source": [
    "S1={'P','y','t','h','o','n'}\n",
    "print(S1)\n",
    "print(type(S1))\n",
    "S1.add('I') #add method\n",
    "print(S1)\n",
    "S1.remove('P') # remove \n",
    "print(S1)\n",
    "S1.pop() # Pop\n",
    "print(S1)\n",
    "\n",
    "S2= {'P',\"t\",'I',\"S\",\"A\",\"N\"}\n",
    "print(S2)\n",
    "print(S1.union(S2)) # Union\n",
    "print(S1.intersection(S2))  # Intersection\n",
    "print(S1.difference(S2))  # difference\n",
    "print(S2.difference(S1)) # difference\n",
    "S3= {10,20,30,40,50,10}\n",
    "S4={12,10,50,30,70,60}\n",
    "print(S3)\n",
    "print(S4)\n",
    "S3.add(90) #add method\n",
    "print(S3)\n",
    "S3.remove(30) # remove \n",
    "print(S3)\n",
    "S3.pop() # Pop\n",
    "print(S3)\n",
    "print(S3.union(S4)) # Union\n",
    "print(S3.intersection(S4))# Intersection\n",
    "print(S3)\n",
    "print(S4)\n",
    "print(S3.difference(S4))  # difference\n",
    "print(S4.difference(S3))\n",
    "S1.clear()\n",
    "print(S1)"
   ]
  },
  {
   "cell_type": "code",
   "execution_count": null,
   "id": "415c089b",
   "metadata": {},
   "outputs": [],
   "source": [
    "# Dictionary "
   ]
  },
  {
   "cell_type": "code",
   "execution_count": null,
   "id": "7d1903a6",
   "metadata": {},
   "outputs": [],
   "source": [
    "D1={1: \"Python\",2:\"C++\",3:\"Java\",4:\"C\"}\n",
    "print(D1)\n",
    "print(type(D1))\n",
    "print(D1.get(2)) # get\n",
    "print(D1.keys())\n",
    "print(D1.values())\n",
    "D1.pop(2) # pop(key specified)\n",
    "print(D1)\n",
    "keys=[1,2,3,4,5]\n",
    "print(type(keys))\n",
    "values=[\"Python\",\"c++\",\"java\",\".net\",\"C\"]\n",
    "Dict1={k:v for (k,v) in zip(keys, values)} \n",
    "print(Dict1)"
   ]
  },
  {
   "cell_type": "code",
   "execution_count": null,
   "id": "35b86166",
   "metadata": {},
   "outputs": [],
   "source": [
    "# BooLean "
   ]
  },
  {
   "cell_type": "code",
   "execution_count": 10,
   "id": "acaebc54",
   "metadata": {},
   "outputs": [
    {
     "name": "stdout",
     "output_type": "stream",
     "text": [
      "<class 'bool'>\n",
      "<class 'bool'>\n"
     ]
    }
   ],
   "source": [
    "print(type(True))\n",
    "print(type(False))"
   ]
  },
  {
   "cell_type": "code",
   "execution_count": 11,
   "id": "6126d316",
   "metadata": {},
   "outputs": [
    {
     "name": "stdout",
     "output_type": "stream",
     "text": [
      "[1, 10, 11, 13, 20]\n",
      "[20, 13, 11, 10, 1]\n"
     ]
    }
   ],
   "source": [
    "l11=[1,10,20,11,13]\n",
    "l11.sort()\n",
    "print(l11)\n",
    "l11.sort(reverse=True) # Boolean \n",
    "print(l11)"
   ]
  },
  {
   "cell_type": "code",
   "execution_count": null,
   "id": "45941518",
   "metadata": {},
   "outputs": [],
   "source": []
  }
 ],
 "metadata": {
  "kernelspec": {
   "display_name": "Python 3 (ipykernel)",
   "language": "python",
   "name": "python3"
  },
  "language_info": {
   "codemirror_mode": {
    "name": "ipython",
    "version": 3
   },
   "file_extension": ".py",
   "mimetype": "text/x-python",
   "name": "python",
   "nbconvert_exporter": "python",
   "pygments_lexer": "ipython3",
   "version": "3.9.13"
  }
 },
 "nbformat": 4,
 "nbformat_minor": 5
}
