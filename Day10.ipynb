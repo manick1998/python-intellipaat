{
 "cells": [
  {
   "cell_type": "code",
   "execution_count": 12,
   "id": "4063de62",
   "metadata": {},
   "outputs": [],
   "source": [
    "import pandas as pd\n",
    "import numpy as np"
   ]
  },
  {
   "cell_type": "code",
   "execution_count": 2,
   "id": "14dd07a3",
   "metadata": {},
   "outputs": [
    {
     "name": "stdout",
     "output_type": "stream",
     "text": [
      "1.4.2\n"
     ]
    }
   ],
   "source": [
    "print(pd.__version__)"
   ]
  },
  {
   "cell_type": "code",
   "execution_count": 3,
   "id": "201519ee",
   "metadata": {},
   "outputs": [
    {
     "name": "stdout",
     "output_type": "stream",
     "text": [
      "1.21.5\n"
     ]
    }
   ],
   "source": [
    "import numpy as np\n",
    "print(np.__version__)"
   ]
  },
  {
   "cell_type": "code",
   "execution_count": 4,
   "id": "96968e9e",
   "metadata": {},
   "outputs": [
    {
     "name": "stdout",
     "output_type": "stream",
     "text": [
      "Series([], dtype: float64)\n"
     ]
    },
    {
     "name": "stderr",
     "output_type": "stream",
     "text": [
      "C:\\Users\\SandaryaPaul\\AppData\\Local\\Temp\\ipykernel_15340\\3313888185.py:2: FutureWarning: The default dtype for empty Series will be 'object' instead of 'float64' in a future version. Specify a dtype explicitly to silence this warning.\n",
      "  var1=pd.Series()\n"
     ]
    }
   ],
   "source": [
    "# create a empty series\n",
    "var1=pd.Series()\n",
    "print(var1)"
   ]
  },
  {
   "cell_type": "code",
   "execution_count": 5,
   "id": "1bbd9d1f",
   "metadata": {},
   "outputs": [
    {
     "name": "stdout",
     "output_type": "stream",
     "text": [
      "a    1\n",
      "b    2\n",
      "c    3\n",
      "dtype: object\n"
     ]
    }
   ],
   "source": [
    "S1=pd.Series([\"1\",\"2\",\"3\"],index=[\"a\",\"b\",\"c\"])\n",
    "print(S1)\n"
   ]
  },
  {
   "cell_type": "code",
   "execution_count": 7,
   "id": "e32e4796",
   "metadata": {},
   "outputs": [
    {
     "name": "stdout",
     "output_type": "stream",
     "text": [
      "0    1\n",
      "1    2\n",
      "2    3\n",
      "dtype: object\n"
     ]
    }
   ],
   "source": [
    "S1=pd.Series([\"1\",\"2\",\"3\"])\n",
    "print(S1)\n"
   ]
  },
  {
   "cell_type": "code",
   "execution_count": 8,
   "id": "05e977e2",
   "metadata": {},
   "outputs": [
    {
     "name": "stdout",
     "output_type": "stream",
     "text": [
      "0    10\n",
      "1    20\n",
      "2    30\n",
      "3    40\n",
      "4    50\n",
      "dtype: int64\n"
     ]
    }
   ],
   "source": [
    "S1=pd.Series([10,20,30,40,50])\n",
    "print(S1)"
   ]
  },
  {
   "cell_type": "code",
   "execution_count": 9,
   "id": "1a30690e",
   "metadata": {},
   "outputs": [
    {
     "name": "stdout",
     "output_type": "stream",
     "text": [
      "0    10.23\n",
      "1    20.56\n",
      "2    30.56\n",
      "3    40.34\n",
      "4    50.90\n",
      "dtype: float64\n"
     ]
    }
   ],
   "source": [
    "S1=pd.Series([10.23,20.56,30.56,40.34,50.90])\n",
    "print(S1)"
   ]
  },
  {
   "cell_type": "code",
   "execution_count": 11,
   "id": "a6cb27a1",
   "metadata": {},
   "outputs": [
    {
     "name": "stdout",
     "output_type": "stream",
     "text": [
      "0    10\n",
      "1    20\n",
      "2    30\n",
      "3    40\n",
      "4    50\n",
      "5    60\n",
      "6    70\n",
      "dtype: int32\n"
     ]
    }
   ],
   "source": [
    "import numpy as np\n",
    "arr=np.array([10,20,30,40,50,60,70])\n",
    "s2=pd.Series(arr)\n",
    "print(s2)"
   ]
  },
  {
   "cell_type": "code",
   "execution_count": 13,
   "id": "5148ba65",
   "metadata": {},
   "outputs": [
    {
     "name": "stdout",
     "output_type": "stream",
     "text": [
      "Python    1000\n",
      "C++       2000\n",
      "JAVA      3000\n",
      ".NET      4000\n",
      "PHP       5000\n",
      "dtype: int64\n"
     ]
    }
   ],
   "source": [
    "dict1 ={\"Python\":1000,\"C++\":2000,\"JAVA\":3000,\".NET\":4000,\"PHP\":5000}\n",
    "S3=pd.Series(dict1)\n",
    "print(S3)"
   ]
  },
  {
   "cell_type": "code",
   "execution_count": 14,
   "id": "2d9a4678",
   "metadata": {},
   "outputs": [
    {
     "name": "stdout",
     "output_type": "stream",
     "text": [
      "Empty DataFrame\n",
      "Columns: []\n",
      "Index: []\n"
     ]
    }
   ],
   "source": [
    "# DataFrame\n",
    "D1=pd.DataFrame()\n",
    "print(D1)"
   ]
  },
  {
   "cell_type": "code",
   "execution_count": 15,
   "id": "1ae443be",
   "metadata": {},
   "outputs": [
    {
     "data": {
      "text/plain": [
       "pandas.core.frame.DataFrame"
      ]
     },
     "execution_count": 15,
     "metadata": {},
     "output_type": "execute_result"
    }
   ],
   "source": [
    "type(D1)"
   ]
  },
  {
   "cell_type": "code",
   "execution_count": 17,
   "id": "002ed764",
   "metadata": {},
   "outputs": [
    {
     "name": "stdout",
     "output_type": "stream",
     "text": [
      "    0\n",
      "0  10\n",
      "1  20\n",
      "2  30\n",
      "3  40\n",
      "4  50\n",
      "5  60\n",
      "6  70\n"
     ]
    }
   ],
   "source": [
    "# Converting Series to DataFrame\n",
    "D2=pd.DataFrame(s2)\n",
    "print(D2)"
   ]
  },
  {
   "cell_type": "code",
   "execution_count": 18,
   "id": "e1b8e09c",
   "metadata": {},
   "outputs": [
    {
     "name": "stdout",
     "output_type": "stream",
     "text": [
      "           0\n",
      "Python  1000\n",
      "C++     2000\n",
      "JAVA    3000\n",
      ".NET    4000\n",
      "PHP     5000\n"
     ]
    }
   ],
   "source": [
    "D2=pd.DataFrame(S3)\n",
    "print(D2)"
   ]
  },
  {
   "cell_type": "code",
   "execution_count": 20,
   "id": "500ba503",
   "metadata": {},
   "outputs": [
    {
     "name": "stdout",
     "output_type": "stream",
     "text": [
      "  Subject-Name  Score  Value\n",
      "0         MATH     90      1\n",
      "1         CHEM     40      2\n",
      "2          PHY     50      3\n",
      "3          BIO     80      4\n",
      "4      ENGLISH     70      5\n"
     ]
    }
   ],
   "source": [
    "D3={\"Subject-Name\":[\"MATH\",\"CHEM\",\"PHY\",\"BIO\",\"ENGLISH\"],\"Score\":[90,40,50,80,70],\"Value\":[1,2,3,4,5]}\n",
    "df=pd.DataFrame(D3)\n",
    "print(df)"
   ]
  },
  {
   "cell_type": "code",
   "execution_count": 22,
   "id": "2fb78ddc",
   "metadata": {},
   "outputs": [
    {
     "name": "stdout",
     "output_type": "stream",
     "text": [
      "         Work Item Type       Title                     Tags  \\\n",
      "0  Product Backlog Item     Backend  Full-Stack-Fundamentals   \n",
      "1                  Task  Web Server  Full-Stack-Fundamentals   \n",
      "2                  Task         API  Full-Stack-Fundamentals   \n",
      "3                  Task        HTTP  Full-Stack-Fundamentals   \n",
      "4                  Task        JSON  Full-Stack-Fundamentals   \n",
      "\n",
      "                        Area Path                           Iteration Path  \n",
      "0  Testing-Full-Stack-Fundamental  Testing-Full-Stack-Fundamental\\Sprint 1  \n",
      "1  Testing-Full-Stack-Fundamental  Testing-Full-Stack-Fundamental\\Sprint 1  \n",
      "2  Testing-Full-Stack-Fundamental  Testing-Full-Stack-Fundamental\\Sprint 1  \n",
      "3  Testing-Full-Stack-Fundamental  Testing-Full-Stack-Fundamental\\Sprint 1  \n",
      "4  Testing-Full-Stack-Fundamental  Testing-Full-Stack-Fundamental\\Sprint 1  \n"
     ]
    }
   ],
   "source": [
    "df=pd.read_csv('FullStackFundamentals.csv')\n",
    "print(df)"
   ]
  },
  {
   "cell_type": "code",
   "execution_count": 23,
   "id": "2109ce7e",
   "metadata": {},
   "outputs": [
    {
     "name": "stdout",
     "output_type": "stream",
     "text": [
      "         Work Item Type       Title                     Tags  \\\n",
      "0  Product Backlog Item     Backend  Full-Stack-Fundamentals   \n",
      "1                  Task  Web Server  Full-Stack-Fundamentals   \n",
      "2                  Task         API  Full-Stack-Fundamentals   \n",
      "3                  Task        HTTP  Full-Stack-Fundamentals   \n",
      "4                  Task        JSON  Full-Stack-Fundamentals   \n",
      "\n",
      "                        Area Path                           Iteration Path  \n",
      "0  Testing-Full-Stack-Fundamental  Testing-Full-Stack-Fundamental\\Sprint 1  \n",
      "1  Testing-Full-Stack-Fundamental  Testing-Full-Stack-Fundamental\\Sprint 1  \n",
      "2  Testing-Full-Stack-Fundamental  Testing-Full-Stack-Fundamental\\Sprint 1  \n",
      "3  Testing-Full-Stack-Fundamental  Testing-Full-Stack-Fundamental\\Sprint 1  \n",
      "4  Testing-Full-Stack-Fundamental  Testing-Full-Stack-Fundamental\\Sprint 1  \n"
     ]
    }
   ],
   "source": [
    "d=pd.read_csv('FullStackFundamentals.csv')\n",
    "print(d)"
   ]
  },
  {
   "cell_type": "code",
   "execution_count": 24,
   "id": "41f1b6ac",
   "metadata": {},
   "outputs": [],
   "source": [
    "# df=pd.read_json('filename.json')\n",
    "#print(df)"
   ]
  },
  {
   "cell_type": "code",
   "execution_count": 25,
   "id": "e50e5bd3",
   "metadata": {},
   "outputs": [
    {
     "name": "stdout",
     "output_type": "stream",
     "text": [
      "         Work Item Type       Title                     Tags  \\\n",
      "0  Product Backlog Item     Backend  Full-Stack-Fundamentals   \n",
      "1                  Task  Web Server  Full-Stack-Fundamentals   \n",
      "2                  Task         API  Full-Stack-Fundamentals   \n",
      "3                  Task        HTTP  Full-Stack-Fundamentals   \n",
      "4                  Task        JSON  Full-Stack-Fundamentals   \n",
      "\n",
      "                        Area Path                           Iteration Path  \n",
      "0  Testing-Full-Stack-Fundamental  Testing-Full-Stack-Fundamental\\Sprint 1  \n",
      "1  Testing-Full-Stack-Fundamental  Testing-Full-Stack-Fundamental\\Sprint 1  \n",
      "2  Testing-Full-Stack-Fundamental  Testing-Full-Stack-Fundamental\\Sprint 1  \n",
      "3  Testing-Full-Stack-Fundamental  Testing-Full-Stack-Fundamental\\Sprint 1  \n",
      "4  Testing-Full-Stack-Fundamental  Testing-Full-Stack-Fundamental\\Sprint 1  \n"
     ]
    }
   ],
   "source": [
    "df=pd.read_csv(\"FullStackFundamentals.csv\")\n",
    "print(df)"
   ]
  },
  {
   "cell_type": "code",
   "execution_count": 26,
   "id": "d8ccb78e",
   "metadata": {},
   "outputs": [
    {
     "name": "stdout",
     "output_type": "stream",
     "text": [
      "<class 'pandas.core.frame.DataFrame'>\n",
      "RangeIndex: 5 entries, 0 to 4\n",
      "Data columns (total 5 columns):\n",
      " #   Column          Non-Null Count  Dtype \n",
      "---  ------          --------------  ----- \n",
      " 0   Work Item Type  5 non-null      object\n",
      " 1   Title           5 non-null      object\n",
      " 2   Tags            5 non-null      object\n",
      " 3   Area Path       5 non-null      object\n",
      " 4   Iteration Path  5 non-null      object\n",
      "dtypes: object(5)\n",
      "memory usage: 328.0+ bytes\n",
      "None\n"
     ]
    }
   ],
   "source": [
    "# Analysis this data Frames \n",
    "#1. info\n",
    "print(df.info())"
   ]
  },
  {
   "cell_type": "code",
   "execution_count": 27,
   "id": "418f7443",
   "metadata": {},
   "outputs": [
    {
     "data": {
      "text/html": [
       "<div>\n",
       "<style scoped>\n",
       "    .dataframe tbody tr th:only-of-type {\n",
       "        vertical-align: middle;\n",
       "    }\n",
       "\n",
       "    .dataframe tbody tr th {\n",
       "        vertical-align: top;\n",
       "    }\n",
       "\n",
       "    .dataframe thead th {\n",
       "        text-align: right;\n",
       "    }\n",
       "</style>\n",
       "<table border=\"1\" class=\"dataframe\">\n",
       "  <thead>\n",
       "    <tr style=\"text-align: right;\">\n",
       "      <th></th>\n",
       "      <th>prediction</th>\n",
       "    </tr>\n",
       "  </thead>\n",
       "  <tbody>\n",
       "    <tr>\n",
       "      <th>0</th>\n",
       "      <td>sunflower</td>\n",
       "    </tr>\n",
       "    <tr>\n",
       "      <th>1</th>\n",
       "      <td>sunflower</td>\n",
       "    </tr>\n",
       "    <tr>\n",
       "      <th>2</th>\n",
       "      <td>sunflower</td>\n",
       "    </tr>\n",
       "    <tr>\n",
       "      <th>3</th>\n",
       "      <td>sunflower</td>\n",
       "    </tr>\n",
       "    <tr>\n",
       "      <th>4</th>\n",
       "      <td>sunflower</td>\n",
       "    </tr>\n",
       "    <tr>\n",
       "      <th>...</th>\n",
       "      <td>...</td>\n",
       "    </tr>\n",
       "    <tr>\n",
       "      <th>919</th>\n",
       "      <td>sunflower</td>\n",
       "    </tr>\n",
       "    <tr>\n",
       "      <th>920</th>\n",
       "      <td>sunflower</td>\n",
       "    </tr>\n",
       "    <tr>\n",
       "      <th>921</th>\n",
       "      <td>sunflower</td>\n",
       "    </tr>\n",
       "    <tr>\n",
       "      <th>922</th>\n",
       "      <td>sunflower</td>\n",
       "    </tr>\n",
       "    <tr>\n",
       "      <th>923</th>\n",
       "      <td>sunflower</td>\n",
       "    </tr>\n",
       "  </tbody>\n",
       "</table>\n",
       "<p>924 rows × 1 columns</p>\n",
       "</div>"
      ],
      "text/plain": [
       "    prediction\n",
       "0    sunflower\n",
       "1    sunflower\n",
       "2    sunflower\n",
       "3    sunflower\n",
       "4    sunflower\n",
       "..         ...\n",
       "919  sunflower\n",
       "920  sunflower\n",
       "921  sunflower\n",
       "922  sunflower\n",
       "923  sunflower\n",
       "\n",
       "[924 rows x 1 columns]"
      ]
     },
     "execution_count": 27,
     "metadata": {},
     "output_type": "execute_result"
    }
   ],
   "source": [
    "D1= pd.read_csv(\"sample_submission.csv\")\n",
    "D1"
   ]
  },
  {
   "cell_type": "code",
   "execution_count": 37,
   "id": "7d695246",
   "metadata": {},
   "outputs": [
    {
     "name": "stdout",
     "output_type": "stream",
     "text": [
      "  prediction\n",
      "0  sunflower\n",
      "1  sunflower\n",
      "2  sunflower\n",
      "3  sunflower\n",
      "4  sunflower\n"
     ]
    }
   ],
   "source": [
    "# Head\n",
    "print(D1.head())"
   ]
  },
  {
   "cell_type": "code",
   "execution_count": 34,
   "id": "fc0cb843",
   "metadata": {},
   "outputs": [
    {
     "name": "stdout",
     "output_type": "stream",
     "text": [
      "    prediction\n",
      "904  sunflower\n",
      "905  sunflower\n",
      "906  sunflower\n",
      "907  sunflower\n",
      "908  sunflower\n",
      "909  sunflower\n",
      "910  sunflower\n",
      "911  sunflower\n",
      "912  sunflower\n",
      "913  sunflower\n",
      "914  sunflower\n",
      "915  sunflower\n",
      "916  sunflower\n",
      "917  sunflower\n",
      "918  sunflower\n",
      "919  sunflower\n",
      "920  sunflower\n",
      "921  sunflower\n",
      "922  sunflower\n",
      "923  sunflower\n"
     ]
    }
   ],
   "source": [
    "# tail\n",
    "print(D1.tail(20))"
   ]
  },
  {
   "cell_type": "code",
   "execution_count": 38,
   "id": "8e54b007",
   "metadata": {},
   "outputs": [
    {
     "data": {
      "text/html": [
       "<div>\n",
       "<style scoped>\n",
       "    .dataframe tbody tr th:only-of-type {\n",
       "        vertical-align: middle;\n",
       "    }\n",
       "\n",
       "    .dataframe tbody tr th {\n",
       "        vertical-align: top;\n",
       "    }\n",
       "\n",
       "    .dataframe thead th {\n",
       "        text-align: right;\n",
       "    }\n",
       "</style>\n",
       "<table border=\"1\" class=\"dataframe\">\n",
       "  <thead>\n",
       "    <tr style=\"text-align: right;\">\n",
       "      <th></th>\n",
       "      <th>filename</th>\n",
       "    </tr>\n",
       "  </thead>\n",
       "  <tbody>\n",
       "    <tr>\n",
       "      <th>0</th>\n",
       "      <td>Image_1.jpg</td>\n",
       "    </tr>\n",
       "    <tr>\n",
       "      <th>1</th>\n",
       "      <td>Image_2.jpg</td>\n",
       "    </tr>\n",
       "    <tr>\n",
       "      <th>2</th>\n",
       "      <td>Image_3.jpg</td>\n",
       "    </tr>\n",
       "    <tr>\n",
       "      <th>3</th>\n",
       "      <td>Image_4.jpg</td>\n",
       "    </tr>\n",
       "    <tr>\n",
       "      <th>4</th>\n",
       "      <td>Image_5.jpg</td>\n",
       "    </tr>\n",
       "    <tr>\n",
       "      <th>...</th>\n",
       "      <td>...</td>\n",
       "    </tr>\n",
       "    <tr>\n",
       "      <th>919</th>\n",
       "      <td>Image_920.jpg</td>\n",
       "    </tr>\n",
       "    <tr>\n",
       "      <th>920</th>\n",
       "      <td>Image_921.jpg</td>\n",
       "    </tr>\n",
       "    <tr>\n",
       "      <th>921</th>\n",
       "      <td>Image_922.jpg</td>\n",
       "    </tr>\n",
       "    <tr>\n",
       "      <th>922</th>\n",
       "      <td>Image_923.jpg</td>\n",
       "    </tr>\n",
       "    <tr>\n",
       "      <th>923</th>\n",
       "      <td>Image_924.jpg</td>\n",
       "    </tr>\n",
       "  </tbody>\n",
       "</table>\n",
       "<p>924 rows × 1 columns</p>\n",
       "</div>"
      ],
      "text/plain": [
       "          filename\n",
       "0      Image_1.jpg\n",
       "1      Image_2.jpg\n",
       "2      Image_3.jpg\n",
       "3      Image_4.jpg\n",
       "4      Image_5.jpg\n",
       "..             ...\n",
       "919  Image_920.jpg\n",
       "920  Image_921.jpg\n",
       "921  Image_922.jpg\n",
       "922  Image_923.jpg\n",
       "923  Image_924.jpg\n",
       "\n",
       "[924 rows x 1 columns]"
      ]
     },
     "execution_count": 38,
     "metadata": {},
     "output_type": "execute_result"
    }
   ],
   "source": [
    "D3=pd.read_csv(\"Testing_set_flower.csv\")\n",
    "D3"
   ]
  },
  {
   "cell_type": "code",
   "execution_count": 39,
   "id": "4b825f8d",
   "metadata": {},
   "outputs": [
    {
     "name": "stdout",
     "output_type": "stream",
     "text": [
      "<class 'pandas.core.frame.DataFrame'>\n",
      "RangeIndex: 924 entries, 0 to 923\n",
      "Data columns (total 1 columns):\n",
      " #   Column      Non-Null Count  Dtype \n",
      "---  ------      --------------  ----- \n",
      " 0   prediction  924 non-null    object\n",
      "dtypes: object(1)\n",
      "memory usage: 7.3+ KB\n",
      "None\n"
     ]
    }
   ],
   "source": [
    "print(D1.info())"
   ]
  },
  {
   "cell_type": "code",
   "execution_count": 40,
   "id": "0b97ec35",
   "metadata": {},
   "outputs": [
    {
     "name": "stdout",
     "output_type": "stream",
     "text": [
      "<class 'pandas.core.frame.DataFrame'>\n",
      "Index: 5 entries, Python to PHP\n",
      "Data columns (total 1 columns):\n",
      " #   Column  Non-Null Count  Dtype\n",
      "---  ------  --------------  -----\n",
      " 0   0       5 non-null      int64\n",
      "dtypes: int64(1)\n",
      "memory usage: 80.0+ bytes\n",
      "None\n"
     ]
    }
   ],
   "source": [
    "print(D2.info())"
   ]
  },
  {
   "cell_type": "code",
   "execution_count": 41,
   "id": "ef2df80d",
   "metadata": {},
   "outputs": [],
   "source": [
    "# 1`. count()\n",
    "# 2. describe()\n",
    "# 3. shape()\n",
    "# 4. mean()\n",
    "# 5. median()\n",
    "# 6. std()\n",
    "# 7. min()\n",
    "# 8. Max()"
   ]
  },
  {
   "cell_type": "code",
   "execution_count": 42,
   "id": "9bbc0bc7",
   "metadata": {},
   "outputs": [
    {
     "name": "stdout",
     "output_type": "stream",
     "text": [
      "                0\n",
      "count     5.00000\n",
      "mean   3000.00000\n",
      "std    1581.13883\n",
      "min    1000.00000\n",
      "25%    2000.00000\n",
      "50%    3000.00000\n",
      "75%    4000.00000\n",
      "max    5000.00000\n"
     ]
    }
   ],
   "source": [
    "print(D2.describe())"
   ]
  },
  {
   "cell_type": "code",
   "execution_count": 43,
   "id": "976157b8",
   "metadata": {},
   "outputs": [
    {
     "name": "stdout",
     "output_type": "stream",
     "text": [
      "0    5\n",
      "dtype: int64\n"
     ]
    }
   ],
   "source": [
    "print(D2.count())"
   ]
  },
  {
   "cell_type": "code",
   "execution_count": 46,
   "id": "f983c77d",
   "metadata": {},
   "outputs": [
    {
     "name": "stdout",
     "output_type": "stream",
     "text": [
      "(5, 1)\n"
     ]
    }
   ],
   "source": [
    "print(D2.shape)"
   ]
  },
  {
   "cell_type": "code",
   "execution_count": 47,
   "id": "ae5010c8",
   "metadata": {},
   "outputs": [
    {
     "data": {
      "text/html": [
       "<div>\n",
       "<style scoped>\n",
       "    .dataframe tbody tr th:only-of-type {\n",
       "        vertical-align: middle;\n",
       "    }\n",
       "\n",
       "    .dataframe tbody tr th {\n",
       "        vertical-align: top;\n",
       "    }\n",
       "\n",
       "    .dataframe thead th {\n",
       "        text-align: right;\n",
       "    }\n",
       "</style>\n",
       "<table border=\"1\" class=\"dataframe\">\n",
       "  <thead>\n",
       "    <tr style=\"text-align: right;\">\n",
       "      <th></th>\n",
       "      <th>0</th>\n",
       "    </tr>\n",
       "  </thead>\n",
       "  <tbody>\n",
       "    <tr>\n",
       "      <th>count</th>\n",
       "      <td>5.00000</td>\n",
       "    </tr>\n",
       "    <tr>\n",
       "      <th>mean</th>\n",
       "      <td>3000.00000</td>\n",
       "    </tr>\n",
       "    <tr>\n",
       "      <th>std</th>\n",
       "      <td>1581.13883</td>\n",
       "    </tr>\n",
       "    <tr>\n",
       "      <th>min</th>\n",
       "      <td>1000.00000</td>\n",
       "    </tr>\n",
       "    <tr>\n",
       "      <th>25%</th>\n",
       "      <td>2000.00000</td>\n",
       "    </tr>\n",
       "    <tr>\n",
       "      <th>50%</th>\n",
       "      <td>3000.00000</td>\n",
       "    </tr>\n",
       "    <tr>\n",
       "      <th>75%</th>\n",
       "      <td>4000.00000</td>\n",
       "    </tr>\n",
       "    <tr>\n",
       "      <th>max</th>\n",
       "      <td>5000.00000</td>\n",
       "    </tr>\n",
       "  </tbody>\n",
       "</table>\n",
       "</div>"
      ],
      "text/plain": [
       "                0\n",
       "count     5.00000\n",
       "mean   3000.00000\n",
       "std    1581.13883\n",
       "min    1000.00000\n",
       "25%    2000.00000\n",
       "50%    3000.00000\n",
       "75%    4000.00000\n",
       "max    5000.00000"
      ]
     },
     "execution_count": 47,
     "metadata": {},
     "output_type": "execute_result"
    }
   ],
   "source": [
    "D2.describe()"
   ]
  },
  {
   "cell_type": "code",
   "execution_count": 48,
   "id": "61ecd7d2",
   "metadata": {},
   "outputs": [
    {
     "name": "stdout",
     "output_type": "stream",
     "text": [
      "       prediction\n",
      "count         924\n",
      "unique          1\n",
      "top     sunflower\n",
      "freq          924\n"
     ]
    }
   ],
   "source": [
    "print(D1.describe())"
   ]
  },
  {
   "cell_type": "code",
   "execution_count": 51,
   "id": "5c55705a",
   "metadata": {},
   "outputs": [
    {
     "data": {
      "text/plain": [
       "prediction    924\n",
       "dtype: int64"
      ]
     },
     "execution_count": 51,
     "metadata": {},
     "output_type": "execute_result"
    }
   ],
   "source": [
    "D1.count()"
   ]
  },
  {
   "cell_type": "code",
   "execution_count": 52,
   "id": "d932625c",
   "metadata": {},
   "outputs": [
    {
     "data": {
      "text/plain": [
       "(924, 1)"
      ]
     },
     "execution_count": 52,
     "metadata": {},
     "output_type": "execute_result"
    }
   ],
   "source": [
    "D1.shape"
   ]
  },
  {
   "cell_type": "code",
   "execution_count": 53,
   "id": "d7c1ab97",
   "metadata": {},
   "outputs": [
    {
     "name": "stdout",
     "output_type": "stream",
     "text": [
      "<class 'pandas.core.frame.DataFrame'>\n",
      "RangeIndex: 924 entries, 0 to 923\n",
      "Data columns (total 1 columns):\n",
      " #   Column      Non-Null Count  Dtype \n",
      "---  ------      --------------  ----- \n",
      " 0   prediction  924 non-null    object\n",
      "dtypes: object(1)\n",
      "memory usage: 7.3+ KB\n"
     ]
    }
   ],
   "source": [
    "D1.info()"
   ]
  },
  {
   "cell_type": "code",
   "execution_count": 55,
   "id": "240abd54",
   "metadata": {},
   "outputs": [
    {
     "data": {
      "text/html": [
       "<div>\n",
       "<style scoped>\n",
       "    .dataframe tbody tr th:only-of-type {\n",
       "        vertical-align: middle;\n",
       "    }\n",
       "\n",
       "    .dataframe tbody tr th {\n",
       "        vertical-align: top;\n",
       "    }\n",
       "\n",
       "    .dataframe thead th {\n",
       "        text-align: right;\n",
       "    }\n",
       "</style>\n",
       "<table border=\"1\" class=\"dataframe\">\n",
       "  <thead>\n",
       "    <tr style=\"text-align: right;\">\n",
       "      <th></th>\n",
       "      <th>filename</th>\n",
       "    </tr>\n",
       "  </thead>\n",
       "  <tbody>\n",
       "    <tr>\n",
       "      <th>count</th>\n",
       "      <td>924</td>\n",
       "    </tr>\n",
       "    <tr>\n",
       "      <th>unique</th>\n",
       "      <td>924</td>\n",
       "    </tr>\n",
       "    <tr>\n",
       "      <th>top</th>\n",
       "      <td>Image_1.jpg</td>\n",
       "    </tr>\n",
       "    <tr>\n",
       "      <th>freq</th>\n",
       "      <td>1</td>\n",
       "    </tr>\n",
       "  </tbody>\n",
       "</table>\n",
       "</div>"
      ],
      "text/plain": [
       "           filename\n",
       "count           924\n",
       "unique          924\n",
       "top     Image_1.jpg\n",
       "freq              1"
      ]
     },
     "execution_count": 55,
     "metadata": {},
     "output_type": "execute_result"
    }
   ],
   "source": [
    "D3.describe()"
   ]
  },
  {
   "cell_type": "code",
   "execution_count": 56,
   "id": "979cbeae",
   "metadata": {},
   "outputs": [
    {
     "data": {
      "text/plain": [
       "filename    924\n",
       "dtype: int64"
      ]
     },
     "execution_count": 56,
     "metadata": {},
     "output_type": "execute_result"
    }
   ],
   "source": [
    "D3.count()"
   ]
  },
  {
   "cell_type": "code",
   "execution_count": 57,
   "id": "5a32a83c",
   "metadata": {},
   "outputs": [
    {
     "data": {
      "text/plain": [
       "(924, 1)"
      ]
     },
     "execution_count": 57,
     "metadata": {},
     "output_type": "execute_result"
    }
   ],
   "source": [
    "D3.shape"
   ]
  },
  {
   "cell_type": "code",
   "execution_count": 69,
   "id": "461ff0dd",
   "metadata": {},
   "outputs": [
    {
     "data": {
      "text/plain": [
       "<AxesSubplot:>"
      ]
     },
     "execution_count": 69,
     "metadata": {},
     "output_type": "execute_result"
    },
    {
     "data": {
      "image/png": "[encoded data removed]",
      "text/plain": [
       "<Figure size 432x288 with 1 Axes>"
      ]
     },
     "metadata": {
      "needs_background": "light"
     },
     "output_type": "display_data"
    }
   ],
   "source": [
    "import pandas as pd\n",
    "import matplotlib.pyplot as plt\n",
    "%matplotlib inline\n",
    "import sys\n",
    "df=pd.read_csv(\"FullStackFundamentals.csv\")\n",
    "df.plot()"
   ]
  },
  {
   "cell_type": "code",
   "execution_count": null,
   "id": "070d8aff",
   "metadata": {},
   "outputs": [],
   "source": [
    "# Cleanning \n",
    "# 1. rename() - Rename a column name \n",
    "# 2. fillna() - Fill the null or empty cells with mean value\n",
    "# 3.drop() - Drop the mentioned column\n",
    "# 4. astype()- Change the data type of a column"
   ]
  },
  {
   "cell_type": "code",
   "execution_count": null,
   "id": "0d965aad",
   "metadata": {},
   "outputs": [],
   "source": []
  }
 ],
 "metadata": {
  "kernelspec": {
   "display_name": "Python 3 (ipykernel)",
   "language": "python",
   "name": "python3"
  },
  "language_info": {
   "codemirror_mode": {
    "name": "ipython",
    "version": 3
   },
   "file_extension": ".py",
   "mimetype": "text/x-python",
   "name": "python",
   "nbconvert_exporter": "python",
   "pygments_lexer": "ipython3",
   "version": "3.9.13"
  }
 },
 "nbformat": 4,
 "nbformat_minor": 5
}
